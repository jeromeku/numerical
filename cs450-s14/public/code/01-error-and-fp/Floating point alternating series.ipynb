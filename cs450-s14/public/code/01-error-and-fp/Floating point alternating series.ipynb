{
 "metadata": {
  "name": ""
 },
 "nbformat": 3,
 "nbformat_minor": 0,
 "worksheets": [
  {
   "cells": [
    {
     "cell_type": "code",
     "collapsed": false,
     "input": [
      "import numpy as np\n",
      "import matplotlib.pyplot as pt"
     ],
     "language": "python",
     "metadata": {},
     "outputs": [],
     "prompt_number": 1
    },
    {
     "cell_type": "code",
     "collapsed": false,
     "input": [
      "a = 0.0\n",
      "x = 1e1 # flip sign\n",
      "true_f = np.exp(x)\n",
      "e = []\n",
      "\n",
      "for i in range(0, 10): # crank up\n",
      "    d = np.prod(\n",
      "            np.arange(1, i+1).astype(np.float))\n",
      "    \n",
      "    # series for exp\n",
      "    a += x**i / d\n",
      "\n",
      "    print a, np.exp(x), x**i / d\n",
      "    \n",
      "    e.append(abs(true_f-a)/true_f)"
     ],
     "language": "python",
     "metadata": {},
     "outputs": [
      {
       "output_type": "stream",
       "stream": "stdout",
       "text": [
        "1.0 22026.4657948 1.0\n",
        "11.0 22026.4657948 10.0\n",
        "61.0 22026.4657948 50.0\n",
        "227.666666667 22026.4657948 166.666666667\n",
        "644.333333333 22026.4657948 416.666666667\n",
        "1477.66666667 22026.4657948 833.333333333\n",
        "2866.55555556 22026.4657948 1388.88888889\n",
        "4850.68253968 22026.4657948 1984.12698413\n",
        "7330.84126984 22026.4657948 2480.15873016\n",
        "10086.5731922 22026.4657948 2755.7319224\n"
       ]
      }
     ],
     "prompt_number": 2
    },
    {
     "cell_type": "code",
     "collapsed": false,
     "input": [
      "pt.semilogy(e)"
     ],
     "language": "python",
     "metadata": {},
     "outputs": [
      {
       "metadata": {},
       "output_type": "pyout",
       "prompt_number": 3,
       "text": [
        "[<matplotlib.lines.Line2D at 0x2d08490>]"
       ]
      },
      {
       "metadata": {},
       "output_type": "display_data",
       "png": "[encoded data removed]",
       "text": [
        "<matplotlib.figure.Figure at 0x2cf7390>"
       ]
      }
     ],
     "prompt_number": 3
    },
    {
     "cell_type": "code",
     "collapsed": false,
     "input": [],
     "language": "python",
     "metadata": {},
     "outputs": [],
     "prompt_number": 3
    }
   ],
   "metadata": {}
  }
 ]
}