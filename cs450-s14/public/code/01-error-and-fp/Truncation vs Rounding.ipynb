{
 "metadata": {
  "name": ""
 },
 "nbformat": 3,
 "nbformat_minor": 0,
 "worksheets": [
  {
   "cells": [
    {
     "cell_type": "code",
     "collapsed": false,
     "input": [
      "import numpy as np\n",
      "import matplotlib.pyplot as pt"
     ],
     "language": "python",
     "metadata": {},
     "outputs": [],
     "prompt_number": 4
    },
    {
     "cell_type": "markdown",
     "metadata": {},
     "source": [
      "**Task:** Approximate a function (here: by a line)"
     ]
    },
    {
     "cell_type": "code",
     "collapsed": false,
     "input": [
      "def f(x):\n",
      "    return - x**2 + 3*x\n",
      "\n",
      "def df(x):\n",
      "    return -2*x + 3\n",
      "\n",
      "center = -1\n",
      "dist = 3\n",
      "grid = np.linspace(center-dist, center+dist, 100)\n",
      "\n",
      "fx = f(grid)\n",
      "pt.plot(grid, fx)\n",
      "pt.plot(grid, f(center) + df(center) * (grid-center))\n",
      "\n",
      "pt.xlim([grid[0], grid[-1]])\n",
      "pt.ylim([np.min(fx), np.max(fx)])"
     ],
     "language": "python",
     "metadata": {},
     "outputs": [
      {
       "metadata": {},
       "output_type": "pyout",
       "prompt_number": 5,
       "text": [
        "(-28.0, 2.2497704315886136)"
       ]
      },
      {
       "metadata": {},
       "output_type": "display_data",
       "png": "[encoded data removed]",
       "text": [
        "<matplotlib.figure.Figure at 0x3dd6810>"
       ]
      }
     ],
     "prompt_number": 5
    },
    {
     "cell_type": "markdown",
     "metadata": {},
     "source": [
      "* What's the error we see?\n",
      "* What if we make `dist` smaller?"
     ]
    }
   ],
   "metadata": {}
  }
 ]
}