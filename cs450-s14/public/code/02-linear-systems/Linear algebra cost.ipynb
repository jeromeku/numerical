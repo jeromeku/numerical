{
 "metadata": {
  "name": ""
 },
 "nbformat": 3,
 "nbformat_minor": 0,
 "worksheets": [
  {
   "cells": [
    {
     "cell_type": "code",
     "collapsed": false,
     "input": [
      "from __future__ import division\n",
      "\n",
      "import numpy as np\n",
      "import numpy.linalg as la\n",
      "import matplotlib.pyplot as pt\n",
      "\n",
      "from time import time"
     ],
     "language": "python",
     "metadata": {},
     "outputs": [],
     "prompt_number": 1
    },
    {
     "cell_type": "code",
     "collapsed": false,
     "input": [
      "# vector-vector\n",
      "nlist1 = np.linspace(1e3,1e5,1e3).astype(np.int32)\n",
      "ntests = 5\n",
      "\n",
      "time1 = []\n",
      "for n in nlist1:\n",
      "    u = np.random.rand(n)\n",
      "    v = np.random.rand(n)\n",
      "\n",
      "    t_start = time()\n",
      "    for test in range(ntests):\n",
      "        u.dot(v)     \n",
      "    time1.append((time() - t_start)/ntests)"
     ],
     "language": "python",
     "metadata": {},
     "outputs": [],
     "prompt_number": 2
    },
    {
     "cell_type": "code",
     "collapsed": false,
     "input": [
      "# matrix-vector\n",
      "nlist2 = np.linspace(1e2, 6e3, 20).astype(np.int32)\n",
      "ntests = 5\n",
      "\n",
      "time2 = []\n",
      "\n",
      "for n in nlist2:\n",
      "    print n,\n",
      "    A = np.random.rand(n,n)\n",
      "    u = np.random.rand(n)\n",
      "\n",
      "    t_start = time()\n",
      "    for test in range(ntests):\n",
      "        np.dot(A, u)         \n",
      "    time2.append((time() - t_start)/ntests)"
     ],
     "language": "python",
     "metadata": {},
     "outputs": [
      {
       "output_type": "stream",
       "stream": "stdout",
       "text": [
        "100 410 721 1031 1342 "
       ]
      },
      {
       "output_type": "stream",
       "stream": "stdout",
       "text": [
        "1652 "
       ]
      },
      {
       "output_type": "stream",
       "stream": "stdout",
       "text": [
        "1963 "
       ]
      },
      {
       "output_type": "stream",
       "stream": "stdout",
       "text": [
        "2273 "
       ]
      },
      {
       "output_type": "stream",
       "stream": "stdout",
       "text": [
        "2584 "
       ]
      },
      {
       "output_type": "stream",
       "stream": "stdout",
       "text": [
        "2894 "
       ]
      },
      {
       "output_type": "stream",
       "stream": "stdout",
       "text": [
        "3205 "
       ]
      },
      {
       "output_type": "stream",
       "stream": "stdout",
       "text": [
        "3515 "
       ]
      },
      {
       "output_type": "stream",
       "stream": "stdout",
       "text": [
        "3826 "
       ]
      },
      {
       "output_type": "stream",
       "stream": "stdout",
       "text": [
        "4136 "
       ]
      },
      {
       "output_type": "stream",
       "stream": "stdout",
       "text": [
        "4447 "
       ]
      },
      {
       "output_type": "stream",
       "stream": "stdout",
       "text": [
        "4757 "
       ]
      },
      {
       "output_type": "stream",
       "stream": "stdout",
       "text": [
        "5068 "
       ]
      },
      {
       "output_type": "stream",
       "stream": "stdout",
       "text": [
        "5378 "
       ]
      },
      {
       "output_type": "stream",
       "stream": "stdout",
       "text": [
        "5689 "
       ]
      },
      {
       "output_type": "stream",
       "stream": "stdout",
       "text": [
        "6000\n"
       ]
      }
     ],
     "prompt_number": 3
    },
    {
     "cell_type": "code",
     "collapsed": false,
     "input": [
      "# matrix-matrix\n",
      "nlist3 = np.linspace(1e2, 2e3, 20).astype(np.int32)\n",
      "\n",
      "time3 = []\n",
      "for n in nlist3:\n",
      "    print n,\n",
      "    A = np.random.rand(n,n)\n",
      "    B = np.random.rand(n,n)\n",
      "\n",
      "    t_start = time()\n",
      "    np.dot(A, B) \n",
      "    time3.append(time() - t_start)"
     ],
     "language": "python",
     "metadata": {},
     "outputs": [
      {
       "output_type": "stream",
       "stream": "stdout",
       "text": [
        "100 200 300 400 "
       ]
      },
      {
       "output_type": "stream",
       "stream": "stdout",
       "text": [
        "500 600 "
       ]
      },
      {
       "output_type": "stream",
       "stream": "stdout",
       "text": [
        "700 "
       ]
      },
      {
       "output_type": "stream",
       "stream": "stdout",
       "text": [
        "800 "
       ]
      },
      {
       "output_type": "stream",
       "stream": "stdout",
       "text": [
        "900 "
       ]
      },
      {
       "output_type": "stream",
       "stream": "stdout",
       "text": [
        "1000 "
       ]
      },
      {
       "output_type": "stream",
       "stream": "stdout",
       "text": [
        "1100 "
       ]
      },
      {
       "output_type": "stream",
       "stream": "stdout",
       "text": [
        "1200 "
       ]
      },
      {
       "output_type": "stream",
       "stream": "stdout",
       "text": [
        "1300 "
       ]
      },
      {
       "output_type": "stream",
       "stream": "stdout",
       "text": [
        "1400 "
       ]
      },
      {
       "output_type": "stream",
       "stream": "stdout",
       "text": [
        "1500 "
       ]
      },
      {
       "output_type": "stream",
       "stream": "stdout",
       "text": [
        "1600 "
       ]
      },
      {
       "output_type": "stream",
       "stream": "stdout",
       "text": [
        "1700 "
       ]
      },
      {
       "output_type": "stream",
       "stream": "stdout",
       "text": [
        "1800 "
       ]
      },
      {
       "output_type": "stream",
       "stream": "stdout",
       "text": [
        "1900 "
       ]
      },
      {
       "output_type": "stream",
       "stream": "stdout",
       "text": [
        "2000\n"
       ]
      }
     ],
     "prompt_number": 4
    },
    {
     "cell_type": "code",
     "collapsed": false,
     "input": [
      "# solve\n",
      "nlist4 = np.linspace(1e2, 2e3, 20).astype(np.int32)\n",
      "\n",
      "time4 = []\n",
      "for n in nlist4:\n",
      "    print n,\n",
      "    A = np.random.rand(n,n)\n",
      "    b = np.random.rand(n)\n",
      "\n",
      "    t_start = time()\n",
      "    la.solve(A,b)\n",
      "    time4.append(time() - t_start)"
     ],
     "language": "python",
     "metadata": {},
     "outputs": [
      {
       "output_type": "stream",
       "stream": "stdout",
       "text": [
        "100 200 300 400 500 600 "
       ]
      },
      {
       "output_type": "stream",
       "stream": "stdout",
       "text": [
        "700 800 "
       ]
      },
      {
       "output_type": "stream",
       "stream": "stdout",
       "text": [
        "900 "
       ]
      },
      {
       "output_type": "stream",
       "stream": "stdout",
       "text": [
        "1000 "
       ]
      },
      {
       "output_type": "stream",
       "stream": "stdout",
       "text": [
        "1100 "
       ]
      },
      {
       "output_type": "stream",
       "stream": "stdout",
       "text": [
        "1200 "
       ]
      },
      {
       "output_type": "stream",
       "stream": "stdout",
       "text": [
        "1300 "
       ]
      },
      {
       "output_type": "stream",
       "stream": "stdout",
       "text": [
        "1400 "
       ]
      },
      {
       "output_type": "stream",
       "stream": "stdout",
       "text": [
        "1500 "
       ]
      },
      {
       "output_type": "stream",
       "stream": "stdout",
       "text": [
        "1600 "
       ]
      },
      {
       "output_type": "stream",
       "stream": "stdout",
       "text": [
        "1700 "
       ]
      },
      {
       "output_type": "stream",
       "stream": "stdout",
       "text": [
        "1800 "
       ]
      },
      {
       "output_type": "stream",
       "stream": "stdout",
       "text": [
        "1900 "
       ]
      },
      {
       "output_type": "stream",
       "stream": "stdout",
       "text": [
        "2000\n"
       ]
      }
     ],
     "prompt_number": 5
    },
    {
     "cell_type": "code",
     "collapsed": false,
     "input": [
      "# inverse\n",
      "nlist5 = np.linspace(1e2, 2e3, 12).astype(np.int32)\n",
      "ntests = 1\n",
      "\n",
      "time5 = []\n",
      "for n in nlist5:\n",
      "    print n,\n",
      "    A = np.random.rand(n,n)\n",
      "\n",
      "    t_start = time()\n",
      "    la.inv(A)\n",
      "    time5.append(time() - t_start)"
     ],
     "language": "python",
     "metadata": {},
     "outputs": [
      {
       "output_type": "stream",
       "stream": "stdout",
       "text": [
        "100 272 445 "
       ]
      },
      {
       "output_type": "stream",
       "stream": "stdout",
       "text": [
        "618 "
       ]
      },
      {
       "output_type": "stream",
       "stream": "stdout",
       "text": [
        "790 "
       ]
      },
      {
       "output_type": "stream",
       "stream": "stdout",
       "text": [
        "963 "
       ]
      },
      {
       "output_type": "stream",
       "stream": "stdout",
       "text": [
        "1136 "
       ]
      },
      {
       "output_type": "stream",
       "stream": "stdout",
       "text": [
        "1309 "
       ]
      },
      {
       "output_type": "stream",
       "stream": "stdout",
       "text": [
        "1481 "
       ]
      },
      {
       "output_type": "stream",
       "stream": "stdout",
       "text": [
        "1654 "
       ]
      },
      {
       "output_type": "stream",
       "stream": "stdout",
       "text": [
        "1827 "
       ]
      },
      {
       "output_type": "stream",
       "stream": "stdout",
       "text": [
        "2000\n"
       ]
      }
     ],
     "prompt_number": 6
    },
    {
     "cell_type": "code",
     "collapsed": false,
     "input": [
      "pt.figure(figsize=(9, 5))\n",
      "\n",
      "pt.loglog(nlist1, np.array(time1), linewidth=3, label='dot product')\n",
      "pt.loglog(nlist2, np.array(time2), linewidth=3, label='matrix-vector product')\n",
      "pt.loglog(nlist3, np.array(time3), linewidth=3, label='matrix-matrix product')\n",
      "pt.loglog(nlist4, np.array(time4), linewidth=3, label='solve')\n",
      "pt.loglog(nlist5, np.array(time5), linewidth=3, label='inverse')\n",
      "pt.legend()\n",
      "pt.grid()"
     ],
     "language": "python",
     "metadata": {},
     "outputs": [
      {
       "metadata": {},
       "output_type": "display_data",
       "png": "[encoded data removed]",
       "text": [
        "<matplotlib.figure.Figure at 0x3ca7650>"
       ]
      }
     ],
     "prompt_number": 7
    },
    {
     "cell_type": "code",
     "collapsed": false,
     "input": [],
     "language": "python",
     "metadata": {},
     "outputs": []
    }
   ],
   "metadata": {}
  }
 ]
}