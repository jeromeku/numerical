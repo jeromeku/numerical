{
 "metadata": {
  "name": ""
 },
 "nbformat": 3,
 "nbformat_minor": 0,
 "worksheets": [
  {
   "cells": [
    {
     "cell_type": "code",
     "collapsed": false,
     "input": [
      "from __future__ import division\n",
      "\n",
      "import numpy as np"
     ],
     "language": "python",
     "metadata": {},
     "outputs": [],
     "prompt_number": 1
    },
    {
     "cell_type": "code",
     "collapsed": false,
     "input": [
      "A = np.array([\n",
      "              [1,2,1],\n",
      "              [0,1,3],\n",
      "              [2,1,0]\n",
      "              ])"
     ],
     "language": "python",
     "metadata": {},
     "outputs": [],
     "prompt_number": 2
    },
    {
     "cell_type": "code",
     "collapsed": false,
     "input": [
      "P1 = np.array([[0,0,1,],[0,1,0],[1,0,0]])\n",
      "E2 = np.array([[1,0,0,],[0,1,0],[0.5,0,1]])\n",
      "P3 = np.array([[1,0,0,],[0,0,1],[0,1,0]])\n",
      "E4 = np.array([[1,0,0,],[0,1,0],[0,02/3,1]])\n",
      "\n",
      "Afinal = np.array([\n",
      "              [2,1,0],\n",
      "              [0,1.5,1],\n",
      "              [0,0,7/3],\n",
      "              ])\n",
      "\n",
      "reduce(np.dot, [P1, E2, P3, E4, Afinal]) - A"
     ],
     "language": "python",
     "metadata": {},
     "outputs": [
      {
       "metadata": {},
       "output_type": "pyout",
       "prompt_number": 3,
       "text": [
        "array([[ 0.,  0.,  0.],\n",
        "       [ 0.,  0.,  0.],\n",
        "       [ 0.,  0.,  0.]])"
       ]
      }
     ],
     "prompt_number": 3
    },
    {
     "cell_type": "code",
     "collapsed": false,
     "input": [
      "reduce(np.dot, [P1, E2, P3, E4])"
     ],
     "language": "python",
     "metadata": {},
     "outputs": [
      {
       "metadata": {},
       "output_type": "pyout",
       "prompt_number": 4,
       "text": [
        "array([[ 0.5       ,  1.        ,  0.        ],\n",
        "       [ 0.        ,  0.66666667,  1.        ],\n",
        "       [ 1.        ,  0.        ,  0.        ]])"
       ]
      }
     ],
     "prompt_number": 4
    },
    {
     "cell_type": "code",
     "collapsed": false,
     "input": [],
     "language": "python",
     "metadata": {},
     "outputs": []
    }
   ],
   "metadata": {}
  }
 ]
}