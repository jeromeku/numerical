{
 "metadata": {
  "name": ""
 },
 "nbformat": 3,
 "nbformat_minor": 0,
 "worksheets": [
  {
   "cells": [
    {
     "cell_type": "markdown",
     "metadata": {},
     "source": [
      "To illustrate that Modified Gram-Schmidt works, consider a $2\\times 2$ matrix as in your example. I'll use sympy to make the algebra less tedious. You can make it a $4\\times 3$ simply by adjusting the parameters."
     ]
    },
    {
     "cell_type": "code",
     "collapsed": false,
     "input": [
      "import sympy as sp\n",
      "import sympy.matrices\n",
      "\n",
      "from sympy import init_printing\n",
      "init_printing()"
     ],
     "language": "python",
     "metadata": {},
     "outputs": [],
     "prompt_number": 11
    },
    {
     "cell_type": "code",
     "collapsed": false,
     "input": [
      "num_rows = 2\n",
      "num_cols = 2\n",
      "\n",
      "a = sp.Matrix([[\n",
      "        # Uncomment this row for symbolic math, as shown below:\n",
      "        \"a%d%d\" % (row, col)\n",
      "        \n",
      "        # Uncomment this row for numerical math, as shown below:\n",
      "        row+col\n",
      "        \n",
      "        for col in xrange(num_cols)]\n",
      "        for row in xrange(num_rows)])\n",
      "a"
     ],
     "language": "python",
     "metadata": {},
     "outputs": [
      {
       "latex": [
        "$$\\left[\\begin{matrix}a_{00} & a_{01}\\\\a_{10} & a_{11}\\end{matrix}\\right]$$"
       ],
       "metadata": {},
       "output_type": "pyout",
       "png": "[encoded data removed]",
       "prompt_number": 18,
       "text": [
        "\u23a1a\u2080\u2080  a\u2080\u2081\u23a4\n",
        "\u23a2        \u23a5\n",
        "\u23a3a\u2081\u2080  a\u2081\u2081\u23a6"
       ]
      }
     ],
     "prompt_number": 18
    },
    {
     "cell_type": "code",
     "collapsed": false,
     "input": [
      "a[:,0]"
     ],
     "language": "python",
     "metadata": {},
     "outputs": [
      {
       "latex": [
        "$$\\left[\\begin{matrix}a_{00}\\\\a_{10}\\end{matrix}\\right]$$"
       ],
       "metadata": {},
       "output_type": "pyout",
       "png": "[encoded data removed]",
       "prompt_number": 19,
       "text": [
        "\u23a1a\u2080\u2080\u23a4\n",
        "\u23a2   \u23a5\n",
        "\u23a3a\u2081\u2080\u23a6"
       ]
      }
     ],
     "prompt_number": 19
    },
    {
     "cell_type": "code",
     "collapsed": false,
     "input": [
      "from sympy.matrices import zeros\n",
      "\n",
      "r = zeros(num_rows, num_cols)\n",
      "q = zeros(num_rows, num_cols)\n",
      "r"
     ],
     "language": "python",
     "metadata": {},
     "outputs": [
      {
       "latex": [
        "$$\\left[\\begin{matrix}0 & 0\\\\0 & 0\\end{matrix}\\right]$$"
       ],
       "metadata": {},
       "output_type": "pyout",
       "png": "[encoded data removed]",
       "prompt_number": 20,
       "text": [
        "\u23a10  0\u23a4\n",
        "\u23a2    \u23a5\n",
        "\u23a30  0\u23a6"
       ]
      }
     ],
     "prompt_number": 20
    },
    {
     "cell_type": "markdown",
     "metadata": {},
     "source": [
      "What follows is just Algorithm 3.3 from the book, typed up:"
     ]
    },
    {
     "cell_type": "code",
     "collapsed": false,
     "input": [
      "a_mod = a.copy()\n",
      "\n",
      "for k in range(num_cols):\n",
      "    ak = a_mod[:,k]\n",
      "    r[k,k] = ak.norm()\n",
      "    q[:,k ] = ak/ak.norm()\n",
      "    for j in range(k+1, num_cols):\n",
      "        r[k,j] = q[:,k].dot(a[:,j])\n",
      "        a_mod[:,j] = a_mod[:,j] - r[k,j] * q[:,k]"
     ],
     "language": "python",
     "metadata": {},
     "outputs": [],
     "prompt_number": 21
    },
    {
     "cell_type": "code",
     "collapsed": false,
     "input": [
      "print sp.simplify(q[:,0].norm())\n",
      "print sp.simplify(q[:,1].norm())"
     ],
     "language": "python",
     "metadata": {},
     "outputs": [
      {
       "output_type": "stream",
       "stream": "stdout",
       "text": [
        "1\n",
        "1"
       ]
      },
      {
       "output_type": "stream",
       "stream": "stdout",
       "text": [
        "\n"
       ]
      }
     ],
     "prompt_number": 22
    },
    {
     "cell_type": "code",
     "collapsed": false,
     "input": [
      "q"
     ],
     "language": "python",
     "metadata": {},
     "outputs": [
      {
       "latex": [
        "$$\\left[\\begin{matrix}\\frac{a_{00}}{\\sqrt{\\left\\lvert{a_{00}}\\right\\rvert^{2} + \\left\\lvert{a_{10}}\\right\\rvert^{2}}} & \\frac{- \\frac{a_{00}}{\\sqrt{\\left\\lvert{a_{00}}\\right\\rvert^{2} + \\left\\lvert{a_{10}}\\right\\rvert^{2}}} \\left(\\frac{a_{00} a_{01}}{\\sqrt{\\left\\lvert{a_{00}}\\right\\rvert^{2} + \\left\\lvert{a_{10}}\\right\\rvert^{2}}} + \\frac{a_{10} a_{11}}{\\sqrt{\\left\\lvert{a_{00}}\\right\\rvert^{2} + \\left\\lvert{a_{10}}\\right\\rvert^{2}}}\\right) + a_{01}}{\\sqrt{\\left\\lvert{- \\frac{a_{00}}{\\sqrt{\\left\\lvert{a_{00}}\\right\\rvert^{2} + \\left\\lvert{a_{10}}\\right\\rvert^{2}}} \\left(\\frac{a_{00} a_{01}}{\\sqrt{\\left\\lvert{a_{00}}\\right\\rvert^{2} + \\left\\lvert{a_{10}}\\right\\rvert^{2}}} + \\frac{a_{10} a_{11}}{\\sqrt{\\left\\lvert{a_{00}}\\right\\rvert^{2} + \\left\\lvert{a_{10}}\\right\\rvert^{2}}}\\right) + a_{01}}\\right\\rvert^{2} + \\left\\lvert{- \\frac{a_{10}}{\\sqrt{\\left\\lvert{a_{00}}\\right\\rvert^{2} + \\left\\lvert{a_{10}}\\right\\rvert^{2}}} \\left(\\frac{a_{00} a_{01}}{\\sqrt{\\left\\lvert{a_{00}}\\right\\rvert^{2} + \\left\\lvert{a_{10}}\\right\\rvert^{2}}} + \\frac{a_{10} a_{11}}{\\sqrt{\\left\\lvert{a_{00}}\\right\\rvert^{2} + \\left\\lvert{a_{10}}\\right\\rvert^{2}}}\\right) + a_{11}}\\right\\rvert^{2}}}\\\\\\frac{a_{10}}{\\sqrt{\\left\\lvert{a_{00}}\\right\\rvert^{2} + \\left\\lvert{a_{10}}\\right\\rvert^{2}}} & \\frac{- \\frac{a_{10}}{\\sqrt{\\left\\lvert{a_{00}}\\right\\rvert^{2} + \\left\\lvert{a_{10}}\\right\\rvert^{2}}} \\left(\\frac{a_{00} a_{01}}{\\sqrt{\\left\\lvert{a_{00}}\\right\\rvert^{2} + \\left\\lvert{a_{10}}\\right\\rvert^{2}}} + \\frac{a_{10} a_{11}}{\\sqrt{\\left\\lvert{a_{00}}\\right\\rvert^{2} + \\left\\lvert{a_{10}}\\right\\rvert^{2}}}\\right) + a_{11}}{\\sqrt{\\left\\lvert{- \\frac{a_{00}}{\\sqrt{\\left\\lvert{a_{00}}\\right\\rvert^{2} + \\left\\lvert{a_{10}}\\right\\rvert^{2}}} \\left(\\frac{a_{00} a_{01}}{\\sqrt{\\left\\lvert{a_{00}}\\right\\rvert^{2} + \\left\\lvert{a_{10}}\\right\\rvert^{2}}} + \\frac{a_{10} a_{11}}{\\sqrt{\\left\\lvert{a_{00}}\\right\\rvert^{2} + \\left\\lvert{a_{10}}\\right\\rvert^{2}}}\\right) + a_{01}}\\right\\rvert^{2} + \\left\\lvert{- \\frac{a_{10}}{\\sqrt{\\left\\lvert{a_{00}}\\right\\rvert^{2} + \\left\\lvert{a_{10}}\\right\\rvert^{2}}} \\left(\\frac{a_{00} a_{01}}{\\sqrt{\\left\\lvert{a_{00}}\\right\\rvert^{2} + \\left\\lvert{a_{10}}\\right\\rvert^{2}}} + \\frac{a_{10} a_{11}}{\\sqrt{\\left\\lvert{a_{00}}\\right\\rvert^{2} + \\left\\lvert{a_{10}}\\right\\rvert^{2}}}\\right) + a_{11}}\\right\\rvert^{2}}}\\end{matrix}\\right]$$"
       ],
       "metadata": {},
       "output_type": "pyout",
       "png": "[encoded data removed]",
       "prompt_number": 24,
       "text": [
        "\u23a1                                                                   \u239b      a\u2080\u2080\n",
        "\u23a2                                                               a\u2080\u2080\u22c5\u239c\u2500\u2500\u2500\u2500\u2500\u2500\u2500\u2500\u2500\n",
        "\u23a2                                                                   \u239c   ______\n",
        "\u23a2                                                                   \u239c  \u2571      \n",
        "\u23a2                                                                   \u239d\u2572\u2571  \u2502a\u2080\u2080\u2502\n",
        "\u23a2                                                             - \u2500\u2500\u2500\u2500\u2500\u2500\u2500\u2500\u2500\u2500\u2500\u2500\u2500\u2500\n",
        "\u23a2                                                                             \n",
        "\u23a2                                                                             \n",
        "\u23a2        a\u2080\u2080                                                                  \n",
        "\u23a2\u2500\u2500\u2500\u2500\u2500\u2500\u2500\u2500\u2500\u2500\u2500\u2500\u2500\u2500\u2500\u2500\u2500\u2500\u2500\u2500  \u2500\u2500\u2500\u2500\u2500\u2500\u2500\u2500\u2500\u2500\u2500\u2500\u2500\u2500\u2500\u2500\u2500\u2500\u2500\u2500\u2500\u2500\u2500\u2500\u2500\u2500\u2500\u2500\u2500\u2500\u2500\u2500\u2500\u2500\u2500\u2500\u2500\u2500\u2500\u2500\u2500\u2500\u2500\u2500\u2500\u2500\u2500\u2500\u2500\u2500\u2500\u2500\u2500\u2500\u2500\n",
        "\u23a2   _________________             ____________________________________________\n",
        "\u23a2  \u2571      2        2             \u2571                                            \n",
        "\u23a2\u2572\u2571  \u2502a\u2080\u2080\u2502  + \u2502a\u2081\u2080\u2502             \u2571  \u2502      \u239b      a\u2080\u2080\u22c5a\u2080\u2081                a\u2081\u2080\u22c5a\u2081\n",
        "\u23a2                              \u2571   \u2502  a\u2080\u2080\u22c5\u239c\u2500\u2500\u2500\u2500\u2500\u2500\u2500\u2500\u2500\u2500\u2500\u2500\u2500\u2500\u2500\u2500\u2500\u2500\u2500\u2500 + \u2500\u2500\u2500\u2500\u2500\u2500\u2500\u2500\u2500\u2500\u2500\u2500\n",
        "\u23a2                             \u2571    \u2502      \u239c   _________________      _________\n",
        "\u23a2                            \u2571     \u2502      \u239c  \u2571      2        2      \u2571      2  \n",
        "\u23a2                           \u2571      \u2502      \u239d\u2572\u2571  \u2502a\u2080\u2080\u2502  + \u2502a\u2081\u2080\u2502     \u2572\u2571  \u2502a\u2080\u2080\u2502  +\n",
        "\u23a2                          \u2571       \u2502- \u2500\u2500\u2500\u2500\u2500\u2500\u2500\u2500\u2500\u2500\u2500\u2500\u2500\u2500\u2500\u2500\u2500\u2500\u2500\u2500\u2500\u2500\u2500\u2500\u2500\u2500\u2500\u2500\u2500\u2500\u2500\u2500\u2500\u2500\u2500\u2500\u2500\u2500\u2500\u2500\n",
        "\u23a2                         \u2571        \u2502                    _________________     \n",
        "\u23a2                        \u2571         \u2502                   \u2571      2        2      \n",
        "\u23a2                      \u2572\u2571          \u2502                 \u2572\u2571  \u2502a\u2080\u2080\u2502  + \u2502a\u2081\u2080\u2502       \n",
        "\u23a2                                                                             \n",
        "\u23a2                                                                   \u239b      a\u2080\u2080\n",
        "\u23a2                                                               a\u2081\u2080\u22c5\u239c\u2500\u2500\u2500\u2500\u2500\u2500\u2500\u2500\u2500\n",
        "\u23a2                                                                   \u239c   ______\n",
        "\u23a2                                                                   \u239c  \u2571      \n",
        "\u23a2                                                                   \u239d\u2572\u2571  \u2502a\u2080\u2080\u2502\n",
        "\u23a2                                                             - \u2500\u2500\u2500\u2500\u2500\u2500\u2500\u2500\u2500\u2500\u2500\u2500\u2500\u2500\n",
        "\u23a2                                                                             \n",
        "\u23a2                                                                             \n",
        "\u23a2        a\u2081\u2080                                                                  \n",
        "\u23a2\u2500\u2500\u2500\u2500\u2500\u2500\u2500\u2500\u2500\u2500\u2500\u2500\u2500\u2500\u2500\u2500\u2500\u2500\u2500\u2500  \u2500\u2500\u2500\u2500\u2500\u2500\u2500\u2500\u2500\u2500\u2500\u2500\u2500\u2500\u2500\u2500\u2500\u2500\u2500\u2500\u2500\u2500\u2500\u2500\u2500\u2500\u2500\u2500\u2500\u2500\u2500\u2500\u2500\u2500\u2500\u2500\u2500\u2500\u2500\u2500\u2500\u2500\u2500\u2500\u2500\u2500\u2500\u2500\u2500\u2500\u2500\u2500\u2500\u2500\u2500\n",
        "\u23a2   _________________             ____________________________________________\n",
        "\u23a2  \u2571      2        2             \u2571                                            \n",
        "\u23a2\u2572\u2571  \u2502a\u2080\u2080\u2502  + \u2502a\u2081\u2080\u2502             \u2571  \u2502      \u239b      a\u2080\u2080\u22c5a\u2080\u2081                a\u2081\u2080\u22c5a\u2081\n",
        "\u23a2                              \u2571   \u2502  a\u2080\u2080\u22c5\u239c\u2500\u2500\u2500\u2500\u2500\u2500\u2500\u2500\u2500\u2500\u2500\u2500\u2500\u2500\u2500\u2500\u2500\u2500\u2500\u2500 + \u2500\u2500\u2500\u2500\u2500\u2500\u2500\u2500\u2500\u2500\u2500\u2500\n",
        "\u23a2                             \u2571    \u2502      \u239c   _________________      _________\n",
        "\u23a2                            \u2571     \u2502      \u239c  \u2571      2        2      \u2571      2  \n",
        "\u23a2                           \u2571      \u2502      \u239d\u2572\u2571  \u2502a\u2080\u2080\u2502  + \u2502a\u2081\u2080\u2502     \u2572\u2571  \u2502a\u2080\u2080\u2502  +\n",
        "\u23a2                          \u2571       \u2502- \u2500\u2500\u2500\u2500\u2500\u2500\u2500\u2500\u2500\u2500\u2500\u2500\u2500\u2500\u2500\u2500\u2500\u2500\u2500\u2500\u2500\u2500\u2500\u2500\u2500\u2500\u2500\u2500\u2500\u2500\u2500\u2500\u2500\u2500\u2500\u2500\u2500\u2500\u2500\u2500\n",
        "\u23a2                         \u2571        \u2502                    _________________     \n",
        "\u23a2                        \u2571         \u2502                   \u2571      2        2      \n",
        "\u23a3                      \u2572\u2571          \u2502                 \u2572\u2571  \u2502a\u2080\u2080\u2502  + \u2502a\u2081\u2080\u2502       \n",
        "\n",
        "\u22c5a\u2080\u2081                a\u2081\u2080\u22c5a\u2081\u2081       \u239e                                           \n",
        "\u2500\u2500\u2500\u2500\u2500\u2500\u2500\u2500\u2500\u2500\u2500 + \u2500\u2500\u2500\u2500\u2500\u2500\u2500\u2500\u2500\u2500\u2500\u2500\u2500\u2500\u2500\u2500\u2500\u2500\u2500\u2500\u239f                                           \n",
        "___________      _________________\u239f                                           \n",
        "2        2      \u2571      2        2 \u239f                                           \n",
        "  + \u2502a\u2081\u2080\u2502     \u2572\u2571  \u2502a\u2080\u2080\u2502  + \u2502a\u2081\u2080\u2502  \u23a0                                           \n",
        "\u2500\u2500\u2500\u2500\u2500\u2500\u2500\u2500\u2500\u2500\u2500\u2500\u2500\u2500\u2500\u2500\u2500\u2500\u2500\u2500\u2500\u2500\u2500\u2500\u2500\u2500\u2500\u2500\u2500\u2500\u2500\u2500\u2500\u2500\u2500 + a\u2080\u2081                                     \n",
        "    _________________                                                         \n",
        "   \u2571      2        2                                                          \n",
        " \u2572\u2571  \u2502a\u2080\u2080\u2502  + \u2502a\u2081\u2080\u2502                                                           \n",
        "\u2500\u2500\u2500\u2500\u2500\u2500\u2500\u2500\u2500\u2500\u2500\u2500\u2500\u2500\u2500\u2500\u2500\u2500\u2500\u2500\u2500\u2500\u2500\u2500\u2500\u2500\u2500\u2500\u2500\u2500\u2500\u2500\u2500\u2500\u2500\u2500\u2500\u2500\u2500\u2500\u2500\u2500\u2500\u2500\u2500\u2500\u2500\u2500\u2500\u2500\u2500\u2500\u2500\u2500\u2500\u2500\u2500\u2500\u2500\u2500\u2500\u2500\u2500\u2500\u2500\u2500\u2500\u2500\u2500\u2500\u2500\u2500\u2500\u2500\u2500\u2500\u2500\u2500\n",
        "______________________________________________________________________________\n",
        "                2                                                             \n",
        "\u2081       \u239e      \u2502    \u2502      \u239b      a\u2080\u2080\u22c5a\u2080\u2081                a\u2081\u2080\u22c5a\u2081\u2081       \u239e      \n",
        "\u2500\u2500\u2500\u2500\u2500\u2500\u2500\u2500\u239f      \u2502    \u2502  a\u2081\u2080\u22c5\u239c\u2500\u2500\u2500\u2500\u2500\u2500\u2500\u2500\u2500\u2500\u2500\u2500\u2500\u2500\u2500\u2500\u2500\u2500\u2500\u2500 + \u2500\u2500\u2500\u2500\u2500\u2500\u2500\u2500\u2500\u2500\u2500\u2500\u2500\u2500\u2500\u2500\u2500\u2500\u2500\u2500\u239f      \n",
        "________\u239f      \u2502    \u2502      \u239c   _________________      _________________\u239f      \n",
        "      2 \u239f      \u2502    \u2502      \u239c  \u2571      2        2      \u2571      2        2 \u239f      \n",
        " \u2502a\u2081\u2080\u2502  \u23a0      \u2502    \u2502      \u239d\u2572\u2571  \u2502a\u2080\u2080\u2502  + \u2502a\u2081\u2080\u2502     \u2572\u2571  \u2502a\u2080\u2080\u2502  + \u2502a\u2081\u2080\u2502  \u23a0      \n",
        "\u2500\u2500\u2500\u2500\u2500\u2500\u2500\u2500\u2500 + a\u2080\u2081\u2502  + \u2502- \u2500\u2500\u2500\u2500\u2500\u2500\u2500\u2500\u2500\u2500\u2500\u2500\u2500\u2500\u2500\u2500\u2500\u2500\u2500\u2500\u2500\u2500\u2500\u2500\u2500\u2500\u2500\u2500\u2500\u2500\u2500\u2500\u2500\u2500\u2500\u2500\u2500\u2500\u2500\u2500\u2500\u2500\u2500\u2500\u2500\u2500\u2500\u2500\u2500 + a\u2081\u2081\n",
        "               \u2502    \u2502                    _________________                    \n",
        "               \u2502    \u2502                   \u2571      2        2                     \n",
        "               \u2502    \u2502                 \u2572\u2571  \u2502a\u2080\u2080\u2502  + \u2502a\u2081\u2080\u2502                      \n",
        "                                                                              \n",
        "\u22c5a\u2080\u2081                a\u2081\u2080\u22c5a\u2081\u2081       \u239e                                           \n",
        "\u2500\u2500\u2500\u2500\u2500\u2500\u2500\u2500\u2500\u2500\u2500 + \u2500\u2500\u2500\u2500\u2500\u2500\u2500\u2500\u2500\u2500\u2500\u2500\u2500\u2500\u2500\u2500\u2500\u2500\u2500\u2500\u239f                                           \n",
        "___________      _________________\u239f                                           \n",
        "2        2      \u2571      2        2 \u239f                                           \n",
        "  + \u2502a\u2081\u2080\u2502     \u2572\u2571  \u2502a\u2080\u2080\u2502  + \u2502a\u2081\u2080\u2502  \u23a0                                           \n",
        "\u2500\u2500\u2500\u2500\u2500\u2500\u2500\u2500\u2500\u2500\u2500\u2500\u2500\u2500\u2500\u2500\u2500\u2500\u2500\u2500\u2500\u2500\u2500\u2500\u2500\u2500\u2500\u2500\u2500\u2500\u2500\u2500\u2500\u2500\u2500 + a\u2081\u2081                                     \n",
        "    _________________                                                         \n",
        "   \u2571      2        2                                                          \n",
        " \u2572\u2571  \u2502a\u2080\u2080\u2502  + \u2502a\u2081\u2080\u2502                                                           \n",
        "\u2500\u2500\u2500\u2500\u2500\u2500\u2500\u2500\u2500\u2500\u2500\u2500\u2500\u2500\u2500\u2500\u2500\u2500\u2500\u2500\u2500\u2500\u2500\u2500\u2500\u2500\u2500\u2500\u2500\u2500\u2500\u2500\u2500\u2500\u2500\u2500\u2500\u2500\u2500\u2500\u2500\u2500\u2500\u2500\u2500\u2500\u2500\u2500\u2500\u2500\u2500\u2500\u2500\u2500\u2500\u2500\u2500\u2500\u2500\u2500\u2500\u2500\u2500\u2500\u2500\u2500\u2500\u2500\u2500\u2500\u2500\u2500\u2500\u2500\u2500\u2500\u2500\u2500\n",
        "______________________________________________________________________________\n",
        "                2                                                             \n",
        "\u2081       \u239e      \u2502    \u2502      \u239b      a\u2080\u2080\u22c5a\u2080\u2081                a\u2081\u2080\u22c5a\u2081\u2081       \u239e      \n",
        "\u2500\u2500\u2500\u2500\u2500\u2500\u2500\u2500\u239f      \u2502    \u2502  a\u2081\u2080\u22c5\u239c\u2500\u2500\u2500\u2500\u2500\u2500\u2500\u2500\u2500\u2500\u2500\u2500\u2500\u2500\u2500\u2500\u2500\u2500\u2500\u2500 + \u2500\u2500\u2500\u2500\u2500\u2500\u2500\u2500\u2500\u2500\u2500\u2500\u2500\u2500\u2500\u2500\u2500\u2500\u2500\u2500\u239f      \n",
        "________\u239f      \u2502    \u2502      \u239c   _________________      _________________\u239f      \n",
        "      2 \u239f      \u2502    \u2502      \u239c  \u2571      2        2      \u2571      2        2 \u239f      \n",
        " \u2502a\u2081\u2080\u2502  \u23a0      \u2502    \u2502      \u239d\u2572\u2571  \u2502a\u2080\u2080\u2502  + \u2502a\u2081\u2080\u2502     \u2572\u2571  \u2502a\u2080\u2080\u2502  + \u2502a\u2081\u2080\u2502  \u23a0      \n",
        "\u2500\u2500\u2500\u2500\u2500\u2500\u2500\u2500\u2500 + a\u2080\u2081\u2502  + \u2502- \u2500\u2500\u2500\u2500\u2500\u2500\u2500\u2500\u2500\u2500\u2500\u2500\u2500\u2500\u2500\u2500\u2500\u2500\u2500\u2500\u2500\u2500\u2500\u2500\u2500\u2500\u2500\u2500\u2500\u2500\u2500\u2500\u2500\u2500\u2500\u2500\u2500\u2500\u2500\u2500\u2500\u2500\u2500\u2500\u2500\u2500\u2500\u2500\u2500 + a\u2081\u2081\n",
        "               \u2502    \u2502                    _________________                    \n",
        "               \u2502    \u2502                   \u2571      2        2                     \n",
        "               \u2502    \u2502                 \u2572\u2571  \u2502a\u2080\u2080\u2502  + \u2502a\u2081\u2080\u2502                      \n",
        "\n",
        "   \u23a4\n",
        "   \u23a5\n",
        "   \u23a5\n",
        "   \u23a5\n",
        "   \u23a5\n",
        "   \u23a5\n",
        "   \u23a5\n",
        "   \u23a5\n",
        "   \u23a5\n",
        "\u2500\u2500\u2500\u23a5\n",
        "___\u23a5\n",
        " 2 \u23a5\n",
        "\u2502  \u23a5\n",
        "\u2502  \u23a5\n",
        "\u2502  \u23a5\n",
        "\u2502  \u23a5\n",
        "\u2502  \u23a5\n",
        "\u2502  \u23a5\n",
        "\u2502  \u23a5\n",
        "\u2502  \u23a5\n",
        "\u2502  \u23a5\n",
        "   \u23a5\n",
        "   \u23a5\n",
        "   \u23a5\n",
        "   \u23a5\n",
        "   \u23a5\n",
        "   \u23a5\n",
        "   \u23a5\n",
        "   \u23a5\n",
        "   \u23a5\n",
        "   \u23a5\n",
        "\u2500\u2500\u2500\u23a5\n",
        "___\u23a5\n",
        " 2 \u23a5\n",
        "\u2502  \u23a5\n",
        "\u2502  \u23a5\n",
        "\u2502  \u23a5\n",
        "\u2502  \u23a5\n",
        "\u2502  \u23a5\n",
        "\u2502  \u23a5\n",
        "\u2502  \u23a5\n",
        "\u2502  \u23a5\n",
        "\u2502  \u23a6"
       ]
      }
     ],
     "prompt_number": 24
    },
    {
     "cell_type": "code",
     "collapsed": false,
     "input": [
      "r"
     ],
     "language": "python",
     "metadata": {},
     "outputs": [
      {
       "latex": [
        "$$\\left[\\begin{matrix}\\sqrt{\\left\\lvert{a_{00}}\\right\\rvert^{2} + \\left\\lvert{a_{10}}\\right\\rvert^{2}} & \\frac{a_{00} a_{01}}{\\sqrt{\\left\\lvert{a_{00}}\\right\\rvert^{2} + \\left\\lvert{a_{10}}\\right\\rvert^{2}}} + \\frac{a_{10} a_{11}}{\\sqrt{\\left\\lvert{a_{00}}\\right\\rvert^{2} + \\left\\lvert{a_{10}}\\right\\rvert^{2}}}\\\\0 & \\sqrt{\\left\\lvert{- \\frac{a_{00}}{\\sqrt{\\left\\lvert{a_{00}}\\right\\rvert^{2} + \\left\\lvert{a_{10}}\\right\\rvert^{2}}} \\left(\\frac{a_{00} a_{01}}{\\sqrt{\\left\\lvert{a_{00}}\\right\\rvert^{2} + \\left\\lvert{a_{10}}\\right\\rvert^{2}}} + \\frac{a_{10} a_{11}}{\\sqrt{\\left\\lvert{a_{00}}\\right\\rvert^{2} + \\left\\lvert{a_{10}}\\right\\rvert^{2}}}\\right) + a_{01}}\\right\\rvert^{2} + \\left\\lvert{- \\frac{a_{10}}{\\sqrt{\\left\\lvert{a_{00}}\\right\\rvert^{2} + \\left\\lvert{a_{10}}\\right\\rvert^{2}}} \\left(\\frac{a_{00} a_{01}}{\\sqrt{\\left\\lvert{a_{00}}\\right\\rvert^{2} + \\left\\lvert{a_{10}}\\right\\rvert^{2}}} + \\frac{a_{10} a_{11}}{\\sqrt{\\left\\lvert{a_{00}}\\right\\rvert^{2} + \\left\\lvert{a_{10}}\\right\\rvert^{2}}}\\right) + a_{11}}\\right\\rvert^{2}}\\end{matrix}\\right]$$"
       ],
       "metadata": {},
       "output_type": "pyout",
       "png": "[encoded data removed]",
       "prompt_number": 25,
       "text": [
        "\u23a1   _________________                                                         \n",
        "\u23a2  \u2571      2        2                                                       a\u2080\u2080\n",
        "\u23a2\u2572\u2571  \u2502a\u2080\u2080\u2502  + \u2502a\u2081\u2080\u2502                                                  \u2500\u2500\u2500\u2500\u2500\u2500\u2500\u2500\u2500\n",
        "\u23a2                                                                       ______\n",
        "\u23a2                                                                      \u2571      \n",
        "\u23a2                                                                    \u2572\u2571  \u2502a\u2080\u2080\u2502\n",
        "\u23a2                                                                             \n",
        "\u23a2                                 ____________________________________________\n",
        "\u23a2                                \u2571                                            \n",
        "\u23a2                               \u2571  \u2502      \u239b      a\u2080\u2080\u22c5a\u2080\u2081                a\u2081\u2080\u22c5a\u2081\n",
        "\u23a2                              \u2571   \u2502  a\u2080\u2080\u22c5\u239c\u2500\u2500\u2500\u2500\u2500\u2500\u2500\u2500\u2500\u2500\u2500\u2500\u2500\u2500\u2500\u2500\u2500\u2500\u2500\u2500 + \u2500\u2500\u2500\u2500\u2500\u2500\u2500\u2500\u2500\u2500\u2500\u2500\n",
        "\u23a2                             \u2571    \u2502      \u239c   _________________      _________\n",
        "\u23a2                            \u2571     \u2502      \u239c  \u2571      2        2      \u2571      2  \n",
        "\u23a2                           \u2571      \u2502      \u239d\u2572\u2571  \u2502a\u2080\u2080\u2502  + \u2502a\u2081\u2080\u2502     \u2572\u2571  \u2502a\u2080\u2080\u2502  +\n",
        "\u23a2         0                \u2571       \u2502- \u2500\u2500\u2500\u2500\u2500\u2500\u2500\u2500\u2500\u2500\u2500\u2500\u2500\u2500\u2500\u2500\u2500\u2500\u2500\u2500\u2500\u2500\u2500\u2500\u2500\u2500\u2500\u2500\u2500\u2500\u2500\u2500\u2500\u2500\u2500\u2500\u2500\u2500\u2500\u2500\n",
        "\u23a2                         \u2571        \u2502                    _________________     \n",
        "\u23a2                        \u2571         \u2502                   \u2571      2        2      \n",
        "\u23a3                      \u2572\u2571          \u2502                 \u2572\u2571  \u2502a\u2080\u2080\u2502  + \u2502a\u2081\u2080\u2502       \n",
        "\n",
        "                                                                              \n",
        "\u22c5a\u2080\u2081                a\u2081\u2080\u22c5a\u2081\u2081                                                   \n",
        "\u2500\u2500\u2500\u2500\u2500\u2500\u2500\u2500\u2500\u2500\u2500 + \u2500\u2500\u2500\u2500\u2500\u2500\u2500\u2500\u2500\u2500\u2500\u2500\u2500\u2500\u2500\u2500\u2500\u2500\u2500\u2500                                            \n",
        "___________      _________________                                            \n",
        "2        2      \u2571      2        2                                             \n",
        "  + \u2502a\u2081\u2080\u2502     \u2572\u2571  \u2502a\u2080\u2080\u2502  + \u2502a\u2081\u2080\u2502                                              \n",
        "                                                                              \n",
        "______________________________________________________________________________\n",
        "                2                                                             \n",
        "\u2081       \u239e      \u2502    \u2502      \u239b      a\u2080\u2080\u22c5a\u2080\u2081                a\u2081\u2080\u22c5a\u2081\u2081       \u239e      \n",
        "\u2500\u2500\u2500\u2500\u2500\u2500\u2500\u2500\u239f      \u2502    \u2502  a\u2081\u2080\u22c5\u239c\u2500\u2500\u2500\u2500\u2500\u2500\u2500\u2500\u2500\u2500\u2500\u2500\u2500\u2500\u2500\u2500\u2500\u2500\u2500\u2500 + \u2500\u2500\u2500\u2500\u2500\u2500\u2500\u2500\u2500\u2500\u2500\u2500\u2500\u2500\u2500\u2500\u2500\u2500\u2500\u2500\u239f      \n",
        "________\u239f      \u2502    \u2502      \u239c   _________________      _________________\u239f      \n",
        "      2 \u239f      \u2502    \u2502      \u239c  \u2571      2        2      \u2571      2        2 \u239f      \n",
        " \u2502a\u2081\u2080\u2502  \u23a0      \u2502    \u2502      \u239d\u2572\u2571  \u2502a\u2080\u2080\u2502  + \u2502a\u2081\u2080\u2502     \u2572\u2571  \u2502a\u2080\u2080\u2502  + \u2502a\u2081\u2080\u2502  \u23a0      \n",
        "\u2500\u2500\u2500\u2500\u2500\u2500\u2500\u2500\u2500 + a\u2080\u2081\u2502  + \u2502- \u2500\u2500\u2500\u2500\u2500\u2500\u2500\u2500\u2500\u2500\u2500\u2500\u2500\u2500\u2500\u2500\u2500\u2500\u2500\u2500\u2500\u2500\u2500\u2500\u2500\u2500\u2500\u2500\u2500\u2500\u2500\u2500\u2500\u2500\u2500\u2500\u2500\u2500\u2500\u2500\u2500\u2500\u2500\u2500\u2500\u2500\u2500\u2500\u2500 + a\u2081\u2081\n",
        "               \u2502    \u2502                    _________________                    \n",
        "               \u2502    \u2502                   \u2571      2        2                     \n",
        "               \u2502    \u2502                 \u2572\u2571  \u2502a\u2080\u2080\u2502  + \u2502a\u2081\u2080\u2502                      \n",
        "\n",
        "   \u23a4\n",
        "   \u23a5\n",
        "   \u23a5\n",
        "   \u23a5\n",
        "   \u23a5\n",
        "   \u23a5\n",
        "   \u23a5\n",
        "___\u23a5\n",
        " 2 \u23a5\n",
        "\u2502  \u23a5\n",
        "\u2502  \u23a5\n",
        "\u2502  \u23a5\n",
        "\u2502  \u23a5\n",
        "\u2502  \u23a5\n",
        "\u2502  \u23a5\n",
        "\u2502  \u23a5\n",
        "\u2502  \u23a5\n",
        "\u2502  \u23a6"
       ]
      }
     ],
     "prompt_number": 25
    },
    {
     "cell_type": "code",
     "collapsed": false,
     "input": [
      "sp.simplify(q * r - a)"
     ],
     "language": "python",
     "metadata": {},
     "outputs": [
      {
       "latex": [
        "$$\\left[\\begin{matrix}0 & 0\\\\0 & 0\\end{matrix}\\right]$$"
       ],
       "metadata": {},
       "output_type": "pyout",
       "png": "[encoded data removed]",
       "prompt_number": 23,
       "text": [
        "\u23a10  0\u23a4\n",
        "\u23a2    \u23a5\n",
        "\u23a30  0\u23a6"
       ]
      }
     ],
     "prompt_number": 23
    }
   ],
   "metadata": {}
  }
 ]
}