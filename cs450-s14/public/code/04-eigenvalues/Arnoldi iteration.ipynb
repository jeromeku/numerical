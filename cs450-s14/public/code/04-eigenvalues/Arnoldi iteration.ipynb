{
 "metadata": {
  "name": ""
 },
 "nbformat": 3,
 "nbformat_minor": 0,
 "worksheets": [
  {
   "cells": [
    {
     "cell_type": "code",
     "collapsed": false,
     "input": [
      "from __future__ import division\n",
      "\n",
      "import numpy as np\n",
      "import numpy.linalg as la\n",
      "\n",
      "import matplotlib.pyplot as pt"
     ],
     "language": "python",
     "metadata": {},
     "outputs": [],
     "prompt_number": 1
    },
    {
     "cell_type": "code",
     "collapsed": false,
     "input": [
      "np.random.seed(40)\n",
      "\n",
      "# Generate matrix with eigenvalues 1...25\n",
      "n = 25\n",
      "eigvals = np.linspace(1., n, n)\n",
      "eigvecs = np.random.randn(n, n)\n",
      "print eigvals\n",
      "\n",
      "A = la.solve(eigvecs, np.dot(np.diag(eigvals), eigvecs))\n",
      "print la.eig(A)[0]"
     ],
     "language": "python",
     "metadata": {},
     "outputs": [
      {
       "output_type": "stream",
       "stream": "stdout",
       "text": [
        "[  1.   2.   3.   4.   5.   6.   7.   8.   9.  10.  11.  12.  13.  14.  15.\n",
        "  16.  17.  18.  19.  20.  21.  22.  23.  24.  25.]\n",
        "[ 25.  24.  23.   1.   2.   3.  22.   4.  21.  20.   5.   6.   7.  19.  18.\n",
        "   8.   9.  17.  16.  10.  11.  12.  15.  14.  13.]\n"
       ]
      }
     ],
     "prompt_number": 2
    },
    {
     "cell_type": "code",
     "collapsed": false,
     "input": [
      "# Initialize Arnoldi iteration\n",
      "\n",
      "# Set up Q and H\n",
      "Q = np.zeros((n, n))\n",
      "H = np.zeros((n, n))\n",
      "\n",
      "k = 0\n",
      "\n",
      "# Pick a starting vector, normalize it\n",
      "x0 = np.random.randn(n)\n",
      "x0 = x0/la.norm(x0)\n",
      "\n",
      "# Poke it into the first column of Q\n",
      "Q[:, k] = x0\n",
      "\n",
      "del x0\n",
      "\n",
      "# ritz_values = []"
     ],
     "language": "python",
     "metadata": {},
     "outputs": [],
     "prompt_number": 82
    },
    {
     "cell_type": "code",
     "collapsed": false,
     "input": [
      "# Carry out one iteration of Arnoldi iteration\n",
      "# Run this cell in-place (Ctrl-Enter) until H is filled.\n",
      "\n",
      "print k\n",
      "\n",
      "u = np.dot(A, Q[:, k])\n",
      "\n",
      "# Carry out Gram-Schmidt on u against Q\n",
      "for j in range(k+1):\n",
      "    qj = Q[:, j]\n",
      "    H[j,k] = np.dot(qj, u)\n",
      "    u = u - H[j,k]*qj\n",
      "\n",
      "if k+1 < n:\n",
      "    H[k+1, k] = la.norm(u)\n",
      "    Q[:, k+1] = u/H[k+1, k]\n",
      "\n",
      "k += 1\n",
      "\n",
      "pt.spy(H)\n",
      "\n",
      "# ritz_values.append(la.eig(H)[0])"
     ],
     "language": "python",
     "metadata": {},
     "outputs": [
      {
       "output_type": "stream",
       "stream": "stdout",
       "text": [
        "24\n"
       ]
      },
      {
       "metadata": {},
       "output_type": "display_data",
       "png": "[encoded data removed]",
       "text": [
        "<matplotlib.figure.Figure at 0xa57d810>"
       ]
      }
     ],
     "prompt_number": 107
    },
    {
     "cell_type": "code",
     "collapsed": false,
     "input": [
      "# Check that Q^T A Q = H\n",
      "\n",
      "la.norm(\n",
      "        np.dot(np.dot(Q.T, A), Q)\n",
      "        - H) / la.norm(A)"
     ],
     "language": "python",
     "metadata": {},
     "outputs": [
      {
       "metadata": {},
       "output_type": "pyout",
       "prompt_number": 108,
       "text": [
        "6.9230906536862802e-06"
       ]
      }
     ],
     "prompt_number": 108
    },
    {
     "cell_type": "code",
     "collapsed": false,
     "input": [
      "# Check that Q is orthogonal\n",
      "\n",
      "la.norm(\n",
      "        np.dot(Q.T, Q) - np.eye(n))"
     ],
     "language": "python",
     "metadata": {},
     "outputs": [
      {
       "metadata": {},
       "output_type": "pyout",
       "prompt_number": 109,
       "text": [
        "1.3525100273749116e-05"
       ]
      }
     ],
     "prompt_number": 109
    },
    {
     "cell_type": "markdown",
     "metadata": {},
     "source": [
      "#### Plot convergence of Ritz values"
     ]
    },
    {
     "cell_type": "code",
     "collapsed": false,
     "input": [
      "# Enable the Ritz value collection above to make this work.\n",
      "\n",
      "for i, rv in enumerate(ritz_values):\n",
      "    plot([i] * len(rv), rv, \"x\")"
     ],
     "language": "python",
     "metadata": {},
     "outputs": [
      {
       "output_type": "stream",
       "stream": "stderr",
       "text": [
        "/usr/lib/pymodules/python2.7/numpy/core/numeric.py:460: ComplexWarning: Casting complex values to real discards the imaginary part\n",
        "  return array(a, dtype, copy=False, order=order)\n"
       ]
      },
      {
       "metadata": {},
       "output_type": "display_data",
       "png": "[encoded data removed]",
       "text": [
        "<matplotlib.figure.Figure at 0x95d9d50>"
       ]
      }
     ],
     "prompt_number": 110
    },
    {
     "cell_type": "code",
     "collapsed": false,
     "input": [],
     "language": "python",
     "metadata": {},
     "outputs": []
    }
   ],
   "metadata": {}
  }
 ]
}