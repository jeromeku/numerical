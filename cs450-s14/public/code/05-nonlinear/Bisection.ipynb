{
 "metadata": {
  "name": ""
 },
 "nbformat": 3,
 "nbformat_minor": 0,
 "worksheets": [
  {
   "cells": [
    {
     "cell_type": "code",
     "collapsed": false,
     "input": [
      "from __future__ import division\n",
      "\n",
      "# ^^^ Demo will not work without this.\n",
      "\n",
      "import numpy as np\n",
      "import matplotlib.pyplot as pt"
     ],
     "language": "python",
     "metadata": {},
     "outputs": [],
     "prompt_number": 13
    },
    {
     "cell_type": "code",
     "collapsed": false,
     "input": [
      "a = 2\n",
      "b = 6\n",
      "\n",
      "x = np.linspace(a, b)\n",
      "\n",
      "def f(x):\n",
      "    return 1e-2 * np.exp(x) - 2\n",
      "\n",
      "pt.grid()\n",
      "pt.plot(x, f(x))"
     ],
     "language": "python",
     "metadata": {},
     "outputs": [
      {
       "metadata": {},
       "output_type": "pyout",
       "prompt_number": 14,
       "text": [
        "[<matplotlib.lines.Line2D at 0x312ca90>]"
       ]
      },
      {
       "metadata": {},
       "output_type": "display_data",
       "png": "[encoded data removed]",
       "text": [
        "<matplotlib.figure.Figure at 0x33b2e50>"
       ]
      }
     ],
     "prompt_number": 14
    },
    {
     "cell_type": "code",
     "collapsed": false,
     "input": [
      "# Run this cell in-place many times. (Ctrl-Enter)\n",
      "\n",
      "m = a + (b-a)/2\n",
      "\n",
      "if np.sign(f(a)) == np.sign(f(m)):\n",
      "    ...\n",
      "else:\n",
      "    ...\n",
      "    \n",
      "print a, b"
     ],
     "language": "python",
     "metadata": {},
     "outputs": [
      {
       "output_type": "stream",
       "stream": "stdout",
       "text": [
        "5.29831695557 5.29831886292\n"
       ]
      }
     ],
     "prompt_number": 49
    },
    {
     "cell_type": "markdown",
     "metadata": {},
     "source": [
      "<!--\n",
      "if np.sign(f(a)) == np.sign(f(m)):\n",
      "    a = m\n",
      "else:\n",
      "    b = m\n",
      "-->\n",
      "(Edit this cell for solution.)"
     ]
    }
   ],
   "metadata": {}
  }
 ]
}