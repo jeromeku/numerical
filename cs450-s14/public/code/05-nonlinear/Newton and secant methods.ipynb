{
 "metadata": {
  "name": ""
 },
 "nbformat": 3,
 "nbformat_minor": 0,
 "worksheets": [
  {
   "cells": [
    {
     "cell_type": "code",
     "collapsed": false,
     "input": [
      "import numpy as np\n",
      "import scipy as sp\n",
      "import matplotlib.pyplot as pt\n",
      "\n",
      "import scipy.optimize as opt"
     ],
     "language": "python",
     "metadata": {},
     "outputs": [],
     "prompt_number": 56
    },
    {
     "cell_type": "code",
     "collapsed": false,
     "input": [
      "def f(x):\n",
      "    return x**3 - x +1\n",
      "\n",
      "def df(x):\n",
      "    return 3*x**2 - 1\n",
      "\n",
      "xmesh = np.linspace(-2, 2, 100)\n",
      "pt.ylim([-3, 10])\n",
      "pt.plot(xmesh, f(xmesh))"
     ],
     "language": "python",
     "metadata": {},
     "outputs": [
      {
       "metadata": {},
       "output_type": "pyout",
       "prompt_number": 57,
       "text": [
        "[<matplotlib.lines.Line2D at 0x48d41d0>]"
       ]
      },
      {
       "metadata": {},
       "output_type": "display_data",
       "png": "[encoded data removed]",
       "text": [
        "<matplotlib.figure.Figure at 0x48d4190>"
       ]
      }
     ],
     "prompt_number": 57
    },
    {
     "cell_type": "code",
     "collapsed": false,
     "input": [
      "iterates = [2, 1.5]\n",
      "\n",
      "x_exact =  opt.fsolve(f, -1)\n",
      "print \"Exact:\", x_exact\n",
      "\n",
      "e = list(np.abs(iterates-x_exact))\n",
      "print \"Errors:\", e"
     ],
     "language": "python",
     "metadata": {},
     "outputs": [
      {
       "output_type": "stream",
       "stream": "stdout",
       "text": [
        "Exact: [-1.32471796]\n",
        "Errors: [3.3247179572447534, 2.8247179572447534]\n"
       ]
      }
     ],
     "prompt_number": 86
    },
    {
     "cell_type": "code",
     "collapsed": false,
     "input": [
      "# Evaluate this cell many times in-place (using Ctrl-Enter)\n",
      "\n",
      "xlast, x = iterates[-2:] # grab last two iterates\n",
      "\n",
      "slope = df(x)                             # Newton's method\n",
      "#slope = ( (f(x)-f(xlast)) / (x-xlast) )   # Secant method\n",
      "\n",
      "pt.plot(xmesh, f(xmesh))\n",
      "pt.plot(xmesh, f(x) + slope*(xmesh-x))\n",
      "pt.plot(x, f(x), \"o\")\n",
      "pt.ylim([-3, 10])\n",
      "pt.axhline(0, color=\"black\")\n",
      "\n",
      "# Compute approximate root\n",
      "xnew = x - f(x) / slope\n",
      "iterates.append(xnew)\n",
      "print xnew\n",
      "\n",
      "e.append(abs(xnew - x_exact))"
     ],
     "language": "python",
     "metadata": {},
     "outputs": [
      {
       "output_type": "stream",
       "stream": "stdout",
       "text": [
        "1.0\n"
       ]
      },
      {
       "metadata": {},
       "output_type": "display_data",
       "png": "[encoded data removed]",
       "text": [
        "<matplotlib.figure.Figure at 0x4e9da90>"
       ]
      }
     ],
     "prompt_number": 87
    },
    {
     "cell_type": "markdown",
     "metadata": {},
     "source": [
      "### Evaluate convergence history"
     ]
    },
    {
     "cell_type": "code",
     "collapsed": false,
     "input": [
      "for i, x in enumerate(iterates):\n",
      "    if i == 0:\n",
      "        continue\n",
      "    print \"%3d %10g %10g | %10g %10g %10g\"%(\n",
      "                        i, x, e[i], \n",
      "                        e[i]/e[i-1],\n",
      "                        e[i]/e[i-1]**2,\n",
      "                        e[i]/e[i-1]**1.62)"
     ],
     "language": "python",
     "metadata": {},
     "outputs": [
      {
       "output_type": "stream",
       "stream": "stdout",
       "text": [
        "  1        1.5    2.82472 |   0.849611   0.255544   0.403397\n",
        "  2          1    2.32472 |   0.822991   0.291353   0.432305\n",
        "  3        0.5    1.82472 |    0.78492   0.337641   0.465239\n",
        "  4          3    4.32472 |    2.37007    1.29887    1.63238\n",
        "  5    2.03846    3.36318 |   0.777664   0.179819   0.313688\n",
        "  6    1.39028      2.715 |   0.807272   0.240032    0.38057\n",
        "  7   0.911612    2.23633 |   0.823694   0.303386   0.443434\n",
        "  8   0.345028    1.66975 |   0.746646   0.333871   0.453317\n",
        "  9    1.42775    2.75247 |    1.64844   0.987237    1.19958\n",
        " 10   0.942418    2.26714 |   0.823674   0.299249    0.43967\n",
        " 11   0.404949    1.72967 |   0.762931   0.336517   0.459292\n",
        " 12     1.7069    3.03162 |    1.75272    1.01333    1.24789\n",
        " 13    1.15576    2.48047 |     0.8182   0.269889   0.411359\n",
        " 14   0.694192    2.01891 |   0.813921   0.328131   0.463416\n",
        " 15  -0.742494   0.582224 |   0.288385   0.142842   0.186552\n",
        " 16    -2.7813    1.45658 |    2.50175    4.29689    3.49855\n",
        " 17   -1.98273   0.658007 |   0.451749   0.310144   0.357792\n",
        " 18   -1.53693   0.212209 |   0.322503   0.490121   0.418053\n",
        " 19   -1.35726  0.0325445 |    0.15336   0.722684   0.400977\n",
        " 20   -1.32566 0.000945137 |  0.0290414   0.892358   0.242818\n",
        " 21   -1.32472 8.31371e-07 | 0.000879629    0.93069  0.0659923\n",
        " 22   -1.32472 6.37046e-13 | 7.6626e-07   0.921683 0.00450924\n",
        " 23   -1.32472 7.10543e-15 |  0.0111537 1.75085e+10     406288\n",
        " 24   -1.32472 7.10543e-15 |          1 1.40737e+14 5.91581e+08\n",
        " 25   -1.32472 7.10543e-15 |          1 1.40737e+14 5.91581e+08\n",
        " 26   -1.32472 7.10543e-15 |          1 1.40737e+14 5.91581e+08\n",
        " 27   -1.32472 7.10543e-15 |          1 1.40737e+14 5.91581e+08\n"
       ]
      }
     ],
     "prompt_number": 85
    },
    {
     "cell_type": "code",
     "collapsed": false,
     "input": [],
     "language": "python",
     "metadata": {},
     "outputs": []
    }
   ],
   "metadata": {}
  }
 ]
}