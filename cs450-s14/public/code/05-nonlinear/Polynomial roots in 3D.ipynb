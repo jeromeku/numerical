{
 "metadata": {
  "name": ""
 },
 "nbformat": 3,
 "nbformat_minor": 0,
 "worksheets": [
  {
   "cells": [
    {
     "cell_type": "code",
     "collapsed": false,
     "input": [
      "import numpy as np\n",
      "\n",
      "import mayavi.mlab as mlab"
     ],
     "language": "python",
     "metadata": {},
     "outputs": []
    },
    {
     "cell_type": "markdown",
     "metadata": {},
     "source": [
      "Consider the three equations:\n",
      "\n",
      "* $y=x^2+\\delta$\n",
      "* $z=x^2-\\delta$\n",
      "* $y=z^2+\\delta$"
     ]
    },
    {
     "cell_type": "code",
     "collapsed": false,
     "input": [
      "delta = 0.5"
     ],
     "language": "python",
     "metadata": {},
     "outputs": []
    },
    {
     "cell_type": "code",
     "collapsed": false,
     "input": [
      "res = 200j\n",
      "\n",
      "x, z = np.mgrid[-3:3:res,-3:3:res]\n",
      "y = x**2 + delta\n",
      "\n",
      "mlab.mesh(x, y, z)\n",
      "\n",
      "if 1:\n",
      "    y, x = np.mgrid[-3:3:res,-3:3:res]\n",
      "    z = x**2 - delta\n",
      "    \n",
      "    mlab.mesh(x, y, z)\n",
      "\n",
      "if 1:\n",
      "    x, z = np.mgrid[-3:3:res,-3:3:res]\n",
      "    y = z**2 + delta\n",
      "    \n",
      "    mlab.mesh(x, y, z)"
     ],
     "language": "python",
     "metadata": {},
     "outputs": []
    },
    {
     "cell_type": "code",
     "collapsed": false,
     "input": [
      "mlab.orientation_axes()\n",
      "mlab.show()"
     ],
     "language": "python",
     "metadata": {},
     "outputs": []
    }
   ],
   "metadata": {}
  }
 ]
}