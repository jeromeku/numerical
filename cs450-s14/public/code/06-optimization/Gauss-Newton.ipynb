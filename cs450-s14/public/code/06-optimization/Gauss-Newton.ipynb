{
 "metadata": {
  "name": ""
 },
 "nbformat": 3,
 "nbformat_minor": 0,
 "worksheets": [
  {
   "cells": [
    {
     "cell_type": "markdown",
     "metadata": {},
     "source": [
      "Suppose $f(t,x) = x_0 e^{x_1 t}$\n",
      "\n",
      "with data\n",
      "\n",
      "    t: 0     1    2     3\n",
      "    y: 2.0   0.7  0.3   0.1\n",
      "\n",
      "Use Gauss Newton to fit the data."
     ]
    },
    {
     "cell_type": "code",
     "collapsed": false,
     "input": [
      "import numpy as np\n",
      "import scipy as sp\n",
      "import matplotlib.pyplot as pt\n",
      "import scipy.linalg as la"
     ],
     "language": "python",
     "metadata": {},
     "outputs": [
      {
       "output_type": "stream",
       "stream": "stderr",
       "text": [
        "/usr/lib/python2.7/dist-packages/numpy/oldnumeric/__init__.py:11: ModuleDeprecationWarning: The oldnumeric module will be dropped in Numpy 1.9\n",
        "  warnings.warn(_msg, ModuleDeprecationWarning)\n"
       ]
      }
     ],
     "prompt_number": 4
    },
    {
     "cell_type": "code",
     "collapsed": false,
     "input": [
      "def residual(x):\n",
      "    return y - x[0] * np.exp(x[1] * t)\n",
      "\n",
      "def jacobian(x):\n",
      "    return np.array([\n",
      "        ...,\n",
      "        ...\n",
      "        ]).T"
     ],
     "language": "python",
     "metadata": {},
     "outputs": [],
     "prompt_number": 5
    },
    {
     "cell_type": "markdown",
     "metadata": {},
     "source": [
      "<!--\n",
      "def jacobian(x):\n",
      "    return np.array([\n",
      "        -np.exp(x[1] * t),\n",
      "        -x[0] * t * np.exp(x[1] * t)\n",
      "        ]).T\n",
      "-->\n",
      "(Edit this cell for solution)"
     ]
    },
    {
     "cell_type": "code",
     "collapsed": false,
     "input": [
      "# data\n",
      "t = np.array([0.0, 1.0, 2.0, 3.0])\n",
      "y = np.array([2.0, 0.7, 0.3, 0.1])"
     ],
     "language": "python",
     "metadata": {},
     "outputs": [],
     "prompt_number": 6
    },
    {
     "cell_type": "code",
     "collapsed": false,
     "input": [
      "# initial guess\n",
      "x = np.array([1, 0])\n",
      "#x = np.array([0.4, 2])\n",
      "\n",
      "def plot_iterate(x):\n",
      "    pt.plot(t, y, 'ro', markersize=20, clip_on=False)\n",
      "    T = np.linspace(t.min(), t.max(), 100)\n",
      "    Y = x[0] * np.exp(x[1] * T)\n",
      "    pt.plot(T, Y, 'b-')\n",
      "\n",
      "plot_iterate(x)"
     ],
     "language": "python",
     "metadata": {},
     "outputs": [
      {
       "metadata": {},
       "output_type": "display_data",
       "png": "[encoded data removed]",
       "text": [
        "<matplotlib.figure.Figure at 0x4906b90>"
       ]
      }
     ],
     "prompt_number": 16
    },
    {
     "cell_type": "code",
     "collapsed": false,
     "input": [
      "# evaluate this cell in-place many times (Ctrl-Enter)\n",
      "\n",
      "J = jacobian(x)\n",
      "r = residual(x)\n",
      "s = la.lstsq(...)[0]\n",
      "x = x + s\n",
      "print la.norm(r)\n",
      "\n",
      "plot_iterate(x)"
     ],
     "language": "python",
     "metadata": {},
     "outputs": [
      {
       "output_type": "stream",
       "stream": "stdout",
       "text": [
        "0.0446775329872\n"
       ]
      },
      {
       "metadata": {},
       "output_type": "display_data",
       "png": "[encoded data removed]",
       "text": [
        "<matplotlib.figure.Figure at 0x4932750>"
       ]
      }
     ],
     "prompt_number": 25
    },
    {
     "cell_type": "markdown",
     "metadata": {},
     "source": [
      "<!--\n",
      "s = la.lstsq(J, -r)[0]\n",
      "-->\n",
      "(Edit this cell for solution.)"
     ]
    }
   ],
   "metadata": {}
  }
 ]
}