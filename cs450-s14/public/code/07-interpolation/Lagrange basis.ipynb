{
 "metadata": {
  "name": ""
 },
 "nbformat": 3,
 "nbformat_minor": 0,
 "worksheets": [
  {
   "cells": [
    {
     "cell_type": "code",
     "collapsed": false,
     "input": [
      "from __future__ import division\n",
      "\n",
      "import numpy as np\n",
      "import numpy.linalg as la\n",
      "import matplotlib.pyplot as pt"
     ],
     "language": "python",
     "metadata": {},
     "outputs": [],
     "prompt_number": 1
    },
    {
     "cell_type": "code",
     "collapsed": false,
     "input": [
      "#nodes = [0, 0.3]\n",
      "nodes = [0, 0.3, 0.8]\n",
      "#nodes = [0, 0.3, 0.8, 2, 3]"
     ],
     "language": "python",
     "metadata": {},
     "outputs": [],
     "prompt_number": 28
    },
    {
     "cell_type": "code",
     "collapsed": false,
     "input": [
      "def lagrange_basis_func(j, x):\n",
      "    ...            \n",
      "    return result"
     ],
     "language": "python",
     "metadata": {},
     "outputs": [],
     "prompt_number": 23
    },
    {
     "cell_type": "markdown",
     "metadata": {},
     "source": [
      "<!--\n",
      "    result = 1\n",
      "    for k, x_k in enumerate(nodes):\n",
      "        if k != j:\n",
      "            result = result * (x-x_k)/(nodes[j]-x_k)\n",
      "-->\n",
      "(Edit cell for solution)"
     ]
    },
    {
     "cell_type": "code",
     "collapsed": false,
     "input": [
      "mesh = np.linspace(-0.5, 3.5, 100)"
     ],
     "language": "python",
     "metadata": {},
     "outputs": [],
     "prompt_number": 24
    },
    {
     "cell_type": "code",
     "collapsed": false,
     "input": [
      "pt.axhline(0, color=\"black\")\n",
      "pt.axhline(1, linestyle=\"--\", color=\"black\", alpha=0.3)\n",
      "for node in nodes:\n",
      "    pt.axvline(node, linestyle=\"--\", color=\"black\", alpha=0.3)\n",
      "\n",
      "for i in range(len(nodes)):\n",
      "    pt.plot(mesh, lagrange_basis_func(i, mesh))\n",
      "    \n",
      "pt.ylim([-2,2])"
     ],
     "language": "python",
     "metadata": {},
     "outputs": [
      {
       "latex": [
        "$$\\begin{pmatrix}-2, & 2\\end{pmatrix}$$"
       ],
       "metadata": {},
       "output_type": "pyout",
       "png": "[encoded data removed]",
       "prompt_number": 26,
       "text": [
        "(-2, 2)"
       ]
      },
      {
       "metadata": {},
       "output_type": "display_data",
       "png": "[encoded data removed]",
       "text": [
        "<matplotlib.figure.Figure at 0x4399810>"
       ]
      }
     ],
     "prompt_number": 26
    },
    {
     "cell_type": "markdown",
     "metadata": {},
     "source": [
      "Questions:\n",
      "\n",
      "* How many interpolating polynomials are there?\n",
      "* Is interpolation any good outside of the interval?"
     ]
    },
    {
     "cell_type": "code",
     "collapsed": false,
     "input": [
      "nodes = [0, 0.5, 2, 2.5]\n",
      "values = np.random.randn(4)\n",
      "\n",
      "def f(x):\n",
      "    # Make f interpolate 'values' at 'nodes'\n",
      "    return (\n",
      "        ...\n",
      "        )"
     ],
     "language": "python",
     "metadata": {},
     "outputs": [],
     "prompt_number": 36
    },
    {
     "cell_type": "markdown",
     "metadata": {},
     "source": [
      "<!--\n",
      "values[0] * lagrange_basis_func(0, x)\n",
      "+ values[1] * lagrange_basis_func(1, x)\n",
      "+ values[2] * lagrange_basis_func(2, x)\n",
      "+ values[3] * lagrange_basis_func(3, x)\n",
      "-->\n",
      "\n",
      "(Edit this cell for solution.)"
     ]
    },
    {
     "cell_type": "code",
     "collapsed": false,
     "input": [
      "pt.plot(nodes, values, \"o\")\n",
      "pt.plot(mesh, f(mesh))"
     ],
     "language": "python",
     "metadata": {},
     "outputs": [
      {
       "metadata": {},
       "output_type": "pyout",
       "prompt_number": 37,
       "text": [
        "[<matplotlib.lines.Line2D at 0x496bdd0>]"
       ]
      },
      {
       "metadata": {},
       "output_type": "display_data",
       "png": "[encoded data removed]",
       "text": [
        "<matplotlib.figure.Figure at 0x496b890>"
       ]
      }
     ],
     "prompt_number": 37
    },
    {
     "cell_type": "code",
     "collapsed": false,
     "input": [],
     "language": "python",
     "metadata": {},
     "outputs": []
    }
   ],
   "metadata": {}
  }
 ]
}