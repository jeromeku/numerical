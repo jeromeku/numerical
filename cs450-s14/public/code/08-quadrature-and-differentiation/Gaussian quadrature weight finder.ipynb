{
 "metadata": {
  "name": ""
 },
 "nbformat": 3,
 "nbformat_minor": 0,
 "worksheets": [
  {
   "cells": [
    {
     "cell_type": "code",
     "collapsed": false,
     "input": [
      "from __future__ import division\n",
      "\n",
      "import numpy as np\n",
      "import numpy.linalg as la\n",
      "import scipy.special as sps\n",
      "import matplotlib.pyplot as pt"
     ],
     "language": "python",
     "metadata": {},
     "outputs": [],
     "prompt_number": 4
    },
    {
     "cell_type": "code",
     "collapsed": false,
     "input": [
      "# Set parameters\n",
      "\n",
      "n = 5\n",
      "left_end_nodes = 0\n",
      "right_end_nodes = 0"
     ],
     "language": "python",
     "metadata": {},
     "outputs": [],
     "prompt_number": 5
    },
    {
     "cell_type": "code",
     "collapsed": false,
     "input": [
      "# Ignore (don't even evaluate) this cell at the outset.\n",
      "\n",
      "# If enabled, it computes weights for variants of Gauss \n",
      "# quadratures that include interval ends.\n",
      "\n",
      "# Enable (only) this for Gauss-Radau:\n",
      "if 1:\n",
      "    left_end_nodes = 1\n",
      "    \n",
      "# Enable (only) this for Gauss-Lobatto:\n",
      "if 0:\n",
      "    left_end_nodes = 1\n",
      "    right_end_nodes = 1"
     ],
     "language": "python",
     "metadata": {},
     "outputs": [],
     "prompt_number": 6
    },
    {
     "cell_type": "code",
     "collapsed": false,
     "input": [
      "deg_reduction = left_end_nodes+right_end_nodes\n",
      "\n",
      "nodes = np.empty(n)\n",
      "nodes[left_end_nodes:n-right_end_nodes] = \\\n",
      "    sps.legendre(n - deg_reduction).weights[:, 0] \n",
      "\n",
      "nodes[:left_end_nodes] = -1\n",
      "nodes[n-right_end_nodes:] = 1\n",
      "\n",
      "mesh = np.linspace(-1, 1, 300)\n",
      "\n",
      "pt.plot(mesh, sps.eval_legendre(n - deg_reduction, mesh))\n",
      "pt.plot(nodes, 0*nodes, \"o\")"
     ],
     "language": "python",
     "metadata": {},
     "outputs": [
      {
       "metadata": {},
       "output_type": "pyout",
       "prompt_number": 7,
       "text": [
        "[<matplotlib.lines.Line2D at 0x38fac50>]"
       ]
      },
      {
       "metadata": {},
       "output_type": "display_data",
       "png": "[encoded data removed]",
       "text": [
        "<matplotlib.figure.Figure at 0x38fae10>"
       ]
      }
     ],
     "prompt_number": 7
    },
    {
     "cell_type": "code",
     "collapsed": false,
     "input": [
      "# Use method of undetermined coefficients to find\n",
      "# Newton-Cotes rule for Gauss nodes.\n",
      "\n",
      "max_degree = len(nodes) - 1\n",
      "powers = np.arange(max_degree+1)\n",
      "\n",
      "Vt = nodes ** powers.reshape(-1, 1)\n",
      "\n",
      "a, b = -1, 1\n",
      "rhs = 1/(powers+1) * (b**(powers+1) - a**(powers+1))\n",
      "\n",
      "weights = la.solve(Vt, rhs)"
     ],
     "language": "python",
     "metadata": {},
     "outputs": [],
     "prompt_number": 8
    },
    {
     "cell_type": "code",
     "collapsed": false,
     "input": [
      "for i in range(2*len(nodes) + 1):\n",
      "    approx = np.dot(weights, nodes**i)\n",
      "    true = 1/(i+1)*(1. - (-1)**(i+1))\n",
      "    \n",
      "    print \"Error at degree %d: %g\" % (i, approx-true)"
     ],
     "language": "python",
     "metadata": {},
     "outputs": [
      {
       "output_type": "stream",
       "stream": "stdout",
       "text": [
        "Error at degree 0: 0\n",
        "Error at degree 1: -1.11022e-16\n",
        "Error at degree 2: -1.11022e-16\n",
        "Error at degree 3: -2.498e-16\n",
        "Error at degree 4: 0\n",
        "Error at degree 5: -4.71845e-16\n",
        "Error at degree 6: 2.22045e-16\n",
        "Error at degree 7: -5.68989e-16\n",
        "Error at degree 8: -0.01161\n",
        "Error at degree 9: -6.66134e-16\n",
        "Error at degree 10: -0.0257832\n"
       ]
      }
     ],
     "prompt_number": 9
    },
    {
     "cell_type": "code",
     "collapsed": false,
     "input": [],
     "language": "python",
     "metadata": {},
     "outputs": []
    }
   ],
   "metadata": {}
  }
 ]
}