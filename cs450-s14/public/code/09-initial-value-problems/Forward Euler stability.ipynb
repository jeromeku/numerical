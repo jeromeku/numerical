{
 "metadata": {
  "name": ""
 },
 "nbformat": 3,
 "nbformat_minor": 0,
 "worksheets": [
  {
   "cells": [
    {
     "cell_type": "code",
     "collapsed": false,
     "input": [
      "import numpy as np\n",
      "import matplotlib.pyplot as pt"
     ],
     "language": "python",
     "metadata": {},
     "outputs": [],
     "prompt_number": 7
    },
    {
     "cell_type": "markdown",
     "metadata": {},
     "source": [
      "We'll integrate\n",
      "\n",
      "$$ y'=\\alpha y$$\n",
      "\n",
      "with $y'(0) = 1$,\n",
      "\n",
      "using forward Euler."
     ]
    },
    {
     "cell_type": "code",
     "collapsed": false,
     "input": [
      "# alpha = 1; h = 0.1; final_t = 20\n",
      "# alpha = -1; h = 0.1; final_t = 20\n",
      "#alpha = -1; h = 1; final_t = 20\n",
      "#alpha = -1; h = 1.5; final_t = 20\n",
      "#alpha = -1; h = 2; final_t = 20\n",
      "alpha = -1; h = 2.5; final_t = 20"
     ],
     "language": "python",
     "metadata": {},
     "outputs": [],
     "prompt_number": 119
    },
    {
     "cell_type": "code",
     "collapsed": false,
     "input": [
      "t_values = [0]\n",
      "y_values = [1]\n",
      "\n",
      "def f(y):\n",
      "    return alpha * y"
     ],
     "language": "python",
     "metadata": {},
     "outputs": [],
     "prompt_number": 120
    },
    {
     "cell_type": "code",
     "collapsed": false,
     "input": [
      "while t_values[-1] < final_t:\n",
      "    t_values.append(t_values[-1] + h)\n",
      "    y_values.append(y_values[-1] + h*f(y_values[-1]))"
     ],
     "language": "python",
     "metadata": {},
     "outputs": [],
     "prompt_number": 121
    },
    {
     "cell_type": "code",
     "collapsed": false,
     "input": [
      "mesh = np.linspace(0, final_t, 100)\n",
      "pt.plot(t_values, y_values)\n",
      "pt.plot(mesh, np.exp(alpha*mesh), label=\"true\")\n",
      "pt.legend()"
     ],
     "language": "python",
     "metadata": {},
     "outputs": [
      {
       "metadata": {},
       "output_type": "pyout",
       "prompt_number": 122,
       "text": [
        "<matplotlib.legend.Legend at 0x78d2550>"
       ]
      },
      {
       "metadata": {},
       "output_type": "display_data",
       "png": "[encoded data removed]",
       "text": [
        "<matplotlib.figure.Figure at 0x6ef4fd0>"
       ]
      }
     ],
     "prompt_number": 122
    },
    {
     "cell_type": "code",
     "collapsed": false,
     "input": [],
     "language": "python",
     "metadata": {},
     "outputs": []
    }
   ],
   "metadata": {}
  }
 ]
}