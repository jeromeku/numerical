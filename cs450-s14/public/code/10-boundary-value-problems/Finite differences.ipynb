{
 "metadata": {
  "name": ""
 },
 "nbformat": 3,
 "nbformat_minor": 0,
 "worksheets": [
  {
   "cells": [
    {
     "cell_type": "code",
     "collapsed": false,
     "input": [
      "from __future__ import division\n",
      "\n",
      "import numpy as np\n",
      "import matplotlib.pyplot as pt\n",
      "\n",
      "import scipy.sparse as sps"
     ],
     "language": "python",
     "metadata": {},
     "outputs": [],
     "prompt_number": 7
    },
    {
     "cell_type": "markdown",
     "metadata": {},
     "source": [
      "We'll solve\n",
      "\n",
      "$u''+1000(1+x^2)u=0$ on $(-1,1)$\n",
      "\n",
      "with $u(-1)=3$ and $u(1)=-3$."
     ]
    },
    {
     "cell_type": "code",
     "collapsed": false,
     "input": [
      "n = 500\n",
      "mesh = np.linspace(-1, 1, n)\n",
      "h = mesh[1] - mesh[0]"
     ],
     "language": "python",
     "metadata": {},
     "outputs": [],
     "prompt_number": 160
    },
    {
     "cell_type": "code",
     "collapsed": false,
     "input": [
      "A = sps.diags(\n",
      "    [1,-2,1],\n",
      "    offsets=[-1,0,1], \n",
      "    shape=(n, n))\n",
      "\n",
      "if n < 10:\n",
      "    print A.todense()"
     ],
     "language": "python",
     "metadata": {},
     "outputs": [],
     "prompt_number": 145
    },
    {
     "cell_type": "markdown",
     "metadata": {},
     "source": [
      "Need to restrict to middle rows!"
     ]
    },
    {
     "cell_type": "code",
     "collapsed": false,
     "input": [
      "second_deriv = ...\n",
      "\n",
      "if n < 10:\n",
      "    print second_deriv.todense()"
     ],
     "language": "python",
     "metadata": {},
     "outputs": [],
     "prompt_number": 153
    },
    {
     "cell_type": "markdown",
     "metadata": {},
     "source": [
      "<!--\n",
      "sps.diags(\n",
      "    [1,-2,1],\n",
      "    offsets=np.array([-1,0,1])+1,\n",
      "    shape=(n-2, n))/h**2\n",
      "-->\n",
      "(Edit this cell for solution)"
     ]
    },
    {
     "cell_type": "code",
     "collapsed": false,
     "input": [
      "factor = sps.diags(\n",
      "    [1000*(1 + mesh[1:]**2)],\n",
      "    offsets=[1],\n",
      "    shape=(n-2, n))\n",
      "\n",
      "if n < 10:\n",
      "    print mesh[1:-1]\n",
      "    print\n",
      "    print factor.todense()"
     ],
     "language": "python",
     "metadata": {},
     "outputs": [],
     "prompt_number": 154
    },
    {
     "cell_type": "code",
     "collapsed": false,
     "input": [
      "A_int = second_deriv+factor\n",
      "\n",
      "if n < 10:\n",
      "    print A_int.todense()"
     ],
     "language": "python",
     "metadata": {},
     "outputs": [],
     "prompt_number": 155
    },
    {
     "cell_type": "code",
     "collapsed": false,
     "input": [
      "A = sps.vstack([\n",
      "    sps.coo_matrix(([1], ([0],[0])), shape=(1, n)),\n",
      "    A_int,\n",
      "    sps.coo_matrix(([1], ([0],[n-1])), shape=(1, n)),\n",
      "    ])\n",
      "A = sps.csr_matrix(A)\n",
      "\n",
      "if n < 10:\n",
      "    print A.todense()"
     ],
     "language": "python",
     "metadata": {},
     "outputs": [],
     "prompt_number": 156
    },
    {
     "cell_type": "code",
     "collapsed": false,
     "input": [
      "rhs = np.zeros(n)\n",
      "..."
     ],
     "language": "python",
     "metadata": {},
     "outputs": [],
     "prompt_number": 157
    },
    {
     "cell_type": "markdown",
     "metadata": {},
     "source": [
      "<!--\n",
      "rhs[0] = 3\n",
      "rhs[-1] = -3\n",
      "-->\n",
      "(Edit this cell for solution.)"
     ]
    },
    {
     "cell_type": "code",
     "collapsed": false,
     "input": [
      "import scipy.sparse.linalg as sla\n",
      "\n",
      "sol = sla.spsolve(A, rhs)"
     ],
     "language": "python",
     "metadata": {},
     "outputs": [],
     "prompt_number": 158
    },
    {
     "cell_type": "code",
     "collapsed": false,
     "input": [
      "pt.plot(mesh, sol)"
     ],
     "language": "python",
     "metadata": {},
     "outputs": [
      {
       "metadata": {},
       "output_type": "pyout",
       "prompt_number": 159,
       "text": [
        "[<matplotlib.lines.Line2D at 0x5d0e610>]"
       ]
      },
      {
       "metadata": {},
       "output_type": "display_data",
       "png": "[encoded data removed]",
       "text": [
        "<matplotlib.figure.Figure at 0x5b665d0>"
       ]
      }
     ],
     "prompt_number": 159
    },
    {
     "cell_type": "code",
     "collapsed": false,
     "input": [],
     "language": "python",
     "metadata": {},
     "outputs": [],
     "prompt_number": 136
    }
   ],
   "metadata": {}
  }
 ]
}