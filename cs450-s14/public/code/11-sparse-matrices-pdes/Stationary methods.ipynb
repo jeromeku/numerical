{
 "metadata": {
  "name": ""
 },
 "nbformat": 3,
 "nbformat_minor": 0,
 "worksheets": [
  {
   "cells": [
    {
     "cell_type": "code",
     "collapsed": false,
     "input": [
      "from __future__ import division\n",
      "import numpy as np\n",
      "import scipy.linalg as la\n",
      "\n",
      "import matplotlib.pyplot as pt"
     ],
     "language": "python",
     "metadata": {},
     "outputs": [],
     "prompt_number": 30
    },
    {
     "cell_type": "markdown",
     "metadata": {},
     "source": [
      "Let's solve $u''=-30x^2$ with $u(0)=1$ and $u(1)=-1$."
     ]
    },
    {
     "cell_type": "code",
     "collapsed": false,
     "input": [
      "n = 50\n",
      "\n",
      "mesh = np.linspace(0, 1, n)\n",
      "h = mesh[1] - mesh[0]"
     ],
     "language": "python",
     "metadata": {},
     "outputs": [],
     "prompt_number": 61
    },
    {
     "cell_type": "code",
     "collapsed": false,
     "input": [
      "A = ..."
     ],
     "language": "python",
     "metadata": {},
     "outputs": [],
     "prompt_number": 136
    },
    {
     "cell_type": "markdown",
     "metadata": {},
     "source": [
      "<!--\n",
      "(np.eye(n, k=1) + -2*np.eye(n) + np.eye(n, k=-1))/h**2\n",
      "A[0] = 0\n",
      "A[-1] = 0\n",
      "A[0,0] = 1\n",
      "A[-1,-1] = 1\n",
      "-->\n",
      "(edit cell for solution)"
     ]
    },
    {
     "cell_type": "code",
     "collapsed": false,
     "input": [
      "b = -30*mesh**2\n",
      "b[0] = 1\n",
      "b[-1] = -1"
     ],
     "language": "python",
     "metadata": {},
     "outputs": [],
     "prompt_number": 145
    },
    {
     "cell_type": "code",
     "collapsed": false,
     "input": [
      "x_true = la.solve(A, b)\n",
      "pt.plot(mesh, x_true)"
     ],
     "language": "python",
     "metadata": {},
     "outputs": [
      {
       "metadata": {},
       "output_type": "pyout",
       "prompt_number": 138,
       "text": [
        "[<matplotlib.lines.Line2D at 0xc1d4710>]"
       ]
      },
      {
       "metadata": {},
       "output_type": "display_data",
       "png": "[encoded data removed]",
       "text": [
        "<matplotlib.figure.Figure at 0xb1ada90>"
       ]
      }
     ],
     "prompt_number": 138
    },
    {
     "cell_type": "markdown",
     "metadata": {},
     "source": [
      "### And now with Jacobi"
     ]
    },
    {
     "cell_type": "code",
     "collapsed": false,
     "input": [
      "x = np.zeros(n)"
     ],
     "language": "python",
     "metadata": {},
     "outputs": [],
     "prompt_number": 440
    },
    {
     "cell_type": "code",
     "collapsed": false,
     "input": [
      "x_new = np.empty(n)\n",
      "\n",
      "for i in xrange(n):\n",
      "    x_new[i] = b[i]\n",
      "    for j in xrange(i):\n",
      "        x_new[i] -= ...\n",
      "    for j in xrange(i+1, n):\n",
      "        x_new[i] -= ...\n",
      "        \n",
      "    x_new[i] = ...\n",
      "\n",
      "x = x_new\n",
      "pt.plot(mesh, x)\n",
      "pt.plot(mesh, x_true, label=\"true\")\n",
      "pt.legend()"
     ],
     "language": "python",
     "metadata": {},
     "outputs": [
      {
       "metadata": {},
       "output_type": "pyout",
       "prompt_number": 444,
       "text": [
        "<matplotlib.legend.Legend at 0x204e4a10>"
       ]
      },
      {
       "metadata": {},
       "output_type": "display_data",
       "png": "[encoded data removed]",
       "text": [
        "<matplotlib.figure.Figure at 0x1fe04950>"
       ]
      }
     ],
     "prompt_number": 444
    },
    {
     "cell_type": "markdown",
     "metadata": {},
     "source": [
      "<!--\n",
      "    for j in xrange(i):\n",
      "        x_new[i] -= A[i,j]*x[j]\n",
      "    for j in xrange(i+1, n):\n",
      "        x_new[i] -= A[i,j]*x[j]\n",
      "        \n",
      "    x_new[i] = x_new[i] / A[i,i]\n",
      "\n",
      "-->\n",
      "\n",
      "(Edit cell for solution)"
     ]
    },
    {
     "cell_type": "markdown",
     "metadata": {},
     "source": [
      "* Ideas to accelerate this?\n",
      "* Multigrid"
     ]
    },
    {
     "cell_type": "markdown",
     "metadata": {},
     "source": [
      "### And now Gauss-Seidel"
     ]
    },
    {
     "cell_type": "code",
     "collapsed": false,
     "input": [
      "x = np.zeros(n)"
     ],
     "language": "python",
     "metadata": {},
     "outputs": [],
     "prompt_number": 148
    },
    {
     "cell_type": "code",
     "collapsed": false,
     "input": [
      "x_new = np.empty(n)\n",
      "\n",
      "for i in xrange(n):\n",
      "    x_new[i] = b[i]\n",
      "    for j in xrange(i):\n",
      "        x_new[i] -= A[i,j]*x_new[j]\n",
      "    for j in xrange(i+1, n):\n",
      "        x_new[i] -= A[i,j]*x[j]\n",
      "        \n",
      "    x_new[i] = x_new[i] / A[i,i]\n",
      "\n",
      "x = x_new\n",
      "pt.plot(mesh, x)\n",
      "pt.plot(mesh, x_true, label=\"true\")\n",
      "pt.legend()"
     ],
     "language": "python",
     "metadata": {},
     "outputs": [
      {
       "metadata": {},
       "output_type": "pyout",
       "prompt_number": 425,
       "text": [
        "<matplotlib.legend.Legend at 0x1f603ad0>"
       ]
      },
      {
       "metadata": {},
       "output_type": "display_data",
       "png": "[encoded data removed]",
       "text": [
        "<matplotlib.figure.Figure at 0x1fe26cd0>"
       ]
      }
     ],
     "prompt_number": 425
    },
    {
     "cell_type": "markdown",
     "metadata": {},
     "source": [
      "### And now Successive Over-Relaxation (\"SOR\")"
     ]
    },
    {
     "cell_type": "code",
     "collapsed": false,
     "input": [
      "x = np.zeros(n)"
     ],
     "language": "python",
     "metadata": {},
     "outputs": [],
     "prompt_number": 426
    },
    {
     "cell_type": "code",
     "collapsed": false,
     "input": [
      "x_new = np.empty(n)\n",
      "\n",
      "for i in xrange(n):\n",
      "    x_new[i] = b[i]\n",
      "    for j in xrange(i):\n",
      "        x_new[i] -= A[i,j]*x_new[j]\n",
      "    for j in xrange(i+1, n):\n",
      "        x_new[i] -= A[i,j]*x[j]\n",
      "        \n",
      "    x_new[i] = x_new[i] / A[i,i]\n",
      "\n",
      "direction = x_new - x\n",
      "omega = 1.5\n",
      "x = x + omega*direction\n",
      "\n",
      "pt.plot(mesh, x)\n",
      "pt.plot(mesh, x_true, label=\"true\")\n",
      "pt.legend()\n",
      "pt.ylim([-1.3, 1.3])"
     ],
     "language": "python",
     "metadata": {},
     "outputs": [
      {
       "metadata": {},
       "output_type": "pyout",
       "prompt_number": 439,
       "text": [
        "(-1.3, 1.3)"
       ]
      },
      {
       "metadata": {},
       "output_type": "display_data",
       "png": "[encoded data removed]",
       "text": [
        "<matplotlib.figure.Figure at 0x1f008dd0>"
       ]
      }
     ],
     "prompt_number": 439
    },
    {
     "cell_type": "code",
     "collapsed": false,
     "input": [],
     "language": "python",
     "metadata": {},
     "outputs": []
    }
   ],
   "metadata": {}
  }
 ]
}