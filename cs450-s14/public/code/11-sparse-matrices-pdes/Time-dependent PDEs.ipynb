{
 "metadata": {
  "name": "",
  "signature": "sha256:d5f6b5de3f2868f5c0c7e04d3738d07a4012b4fde4e45c7ecd30527bdaaa5137"
 },
 "nbformat": 3,
 "nbformat_minor": 0,
 "worksheets": [
  {
   "cells": [
    {
     "cell_type": "code",
     "collapsed": false,
     "input": [
      "from __future__ import division\n",
      "\n",
      "import numpy as np\n",
      "import matplotlib.pyplot as pt"
     ],
     "language": "python",
     "metadata": {},
     "outputs": [],
     "prompt_number": 2
    },
    {
     "cell_type": "code",
     "collapsed": false,
     "input": [
      "def rk4_step(y, t, h, f):\n",
      "    k1 = f(t, y)\n",
      "    k2 = f(t+h/2, y + h/2*k1)\n",
      "    k3 = f(t+h/2, y + h/2*k2)\n",
      "    k4 = f(t+h, y + h*k3)\n",
      "    return y + h/6*(k1 + 2*k2 + 2*k3 + k4)"
     ],
     "language": "python",
     "metadata": {},
     "outputs": [],
     "prompt_number": 23
    },
    {
     "cell_type": "code",
     "collapsed": false,
     "input": [
      "mesh = np.linspace(0, 1, 200)\n",
      "dx = mesh[1]-mesh[0]"
     ],
     "language": "python",
     "metadata": {},
     "outputs": [],
     "prompt_number": 280
    },
    {
     "cell_type": "markdown",
     "metadata": {},
     "source": [
      "(all of the PDEs below use *periodic* boundary conditions: $u(0)=u(1)$)"
     ]
    },
    {
     "cell_type": "markdown",
     "metadata": {},
     "source": [
      "**Advection equation:** $u_t+u_x=0$\n",
      "\n",
      "Equivalent: $u_t=-u_x$"
     ]
    },
    {
     "cell_type": "code",
     "collapsed": false,
     "input": [
      "def f_advection(t, u):\n",
      "    du = (np.roll(u, -1, axis=-1) - np.roll(u, 1, axis=-1))/(2*dx)\n",
      "    return -du"
     ],
     "language": "python",
     "metadata": {},
     "outputs": [],
     "prompt_number": 252
    },
    {
     "cell_type": "markdown",
     "metadata": {},
     "source": [
      "**Heat equation:** $u_t=u_{xx}$"
     ]
    },
    {
     "cell_type": "code",
     "collapsed": false,
     "input": [
      "def f_heat(t, u):\n",
      "    d2u = (\n",
      "        np.roll(u, -1, axis=-1)\n",
      "        - 2*u\n",
      "        + np.roll(u, 1, axis=-1))/(dx**2)\n",
      "    return d2u"
     ],
     "language": "python",
     "metadata": {},
     "outputs": [],
     "prompt_number": 307
    },
    {
     "cell_type": "markdown",
     "metadata": {},
     "source": [
      "**Wave equation:** $u_{tt}=u_{xx}$\n",
      "\n",
      "NOTE: Two time derivatives $\\rightarrow$ convert to first order ODE.\n",
      "\n",
      "$$u_t=v$$\n",
      "$$v_t=u_{xx}$$\n"
     ]
    },
    {
     "cell_type": "code",
     "collapsed": false,
     "input": [
      "def f_wave(t, w):\n",
      "    u, v = w\n",
      "    d2u = (\n",
      "        np.roll(u, -1, axis=-1)\n",
      "        - 2*u\n",
      "        + np.roll(u, 1, axis=-1))/(dx**2)\n",
      "    return np.array([v, d2u])"
     ],
     "language": "python",
     "metadata": {},
     "outputs": [],
     "prompt_number": 434
    },
    {
     "cell_type": "markdown",
     "metadata": {},
     "source": [
      "**Initial condition**"
     ]
    },
    {
     "cell_type": "code",
     "collapsed": false,
     "input": [
      "current_t = 0\n",
      "\n",
      "#current_u = np.sin(2*np.pi*mesh)*0.5+1\n",
      "#current_u = (mesh > 0.3) & (mesh < 0.7)\n",
      "#current_u = (mesh > 0.45) & (mesh < 0.55)\n",
      "current_u = np.exp(-(mesh-0.5)**2*150)\n",
      "#current_u = 2*np.abs(mesh-0.5)\n",
      "\n",
      "current_u = np.array([current_u], dtype=np.float64)\n",
      "current_u.shape"
     ],
     "language": "python",
     "metadata": {},
     "outputs": [
      {
       "metadata": {},
       "output_type": "pyout",
       "prompt_number": 455,
       "text": [
        "(1, 200)"
       ]
      }
     ],
     "prompt_number": 455
    },
    {
     "cell_type": "code",
     "collapsed": false,
     "input": [
      "# Add a second component if needed (for wave equation)\n",
      "current_u = np.vstack([current_u,np.zeros(len(mesh))])\n",
      "current_u.shape"
     ],
     "language": "python",
     "metadata": {},
     "outputs": [
      {
       "metadata": {},
       "output_type": "pyout",
       "prompt_number": 456,
       "text": [
        "(2, 200)"
       ]
      }
     ],
     "prompt_number": 456
    },
    {
     "cell_type": "markdown",
     "metadata": {},
     "source": [
      "**Time loop**"
     ]
    },
    {
     "cell_type": "code",
     "collapsed": false,
     "input": [
      "# Run this cell many times in place (using Ctrl-Enter)\n",
      "\n",
      "dt = dx # experiment with this\n",
      "\n",
      "#current_f = f_advection\n",
      "#current_f = f_heat\n",
      "current_f = f_wave\n",
      "\n",
      "for i in range(5): # takes this many time steps at a time\n",
      "    current_u = rk4_step(current_u, current_t, dt, current_f)\n",
      "    current_t += dt\n",
      "\n",
      "pt.ylim([-0.25, 1.25])\n",
      "pt.grid()\n",
      "pt.plot(mesh, current_u[0])"
     ],
     "language": "python",
     "metadata": {},
     "outputs": [
      {
       "metadata": {},
       "output_type": "pyout",
       "prompt_number": 507,
       "text": [
        "[<matplotlib.lines.Line2D at 0x34dbff50>]"
       ]
      },
      {
       "metadata": {},
       "output_type": "display_data",
       "png": "[encoded data removed]",
       "text": [
        "<matplotlib.figure.Figure at 0x34dbffd0>"
       ]
      }
     ],
     "prompt_number": 507
    }
   ],
   "metadata": {}
  }
 ]
}